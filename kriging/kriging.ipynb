{
 "cells": [
  {
   "cell_type": "code",
   "id": "initial_id",
   "metadata": {
    "collapsed": true,
    "ExecuteTime": {
     "end_time": "2024-12-23T09:58:26.325178Z",
     "start_time": "2024-12-23T09:58:26.218416Z"
    }
   },
   "source": [
    "import pandas as pd\n",
    "\n",
    "# Define the relative file path\n",
    "file_path = \"final/filtered_weather_data_2012_2022_RIO.csv\"\n",
    "\n",
    "# Load the CSV file\n",
    "data = pd.read_csv(file_path)\n",
    "\n",
    "# Remove the .0 from the 'week' column\n",
    "data['week'] = data['week'].apply(lambda x: str(x).replace('.0', '') if '.0' in str(x) else str(x))\n",
    "\n",
    "# Select only the required columns\n",
    "selected_columns = data[['ESTACAO', 'week', 'precipitation_avg', 'precipitation_max']]\n",
    "\n",
    "# Sort the dataframe by 'week' column\n",
    "sorted_data = selected_columns.sort_values(by='week')\n",
    "\n",
    "# Display the first few rows of the sorted data\n",
    "print(sorted_data.head())\n",
    "\n",
    "# Save the sorted data back to a new CSV file\n",
    "sorted_file_path = \"final/sorted_precipitation_data.csv\"\n",
    "sorted_data.to_csv(sorted_file_path, index=False)\n",
    "\n",
    "print(f\"Filtered and sorted data saved to {sorted_file_path}\")\n"
   ],
   "outputs": [
    {
     "name": "stdout",
     "output_type": "stream",
     "text": [
      "     ESTACAO    week  precipitation_avg  precipitation_max\n",
      "0       A601  201201          14.171429              66.20\n",
      "1151    A603  201201           3.771429              12.84\n",
      "7231    A621  201201           2.714286              11.20\n",
      "7805    A624  201201           5.771429              17.20\n",
      "1722    A604  201201           7.514286              18.40\n",
      "Filtered and sorted data saved to final/sorted_precipitation_data.csv\n"
     ]
    }
   ],
   "execution_count": 6
  },
  {
   "metadata": {
    "ExecuteTime": {
     "end_time": "2024-12-23T10:03:46.509575Z",
     "start_time": "2024-12-23T10:03:46.163699Z"
    }
   },
   "cell_type": "code",
   "source": [
    "import pandas as pd\n",
    "\n",
    "# Define file paths\n",
    "weather_file_path = \"final/sorted_precipitation_data.csv\"\n",
    "stations_file_path = \"final/stations_RIO.csv\"\n",
    "output_file_path = \"final/sorted_precipitation_data_with_stations.csv\"\n",
    "\n",
    "# Load the CSV files\n",
    "weather_data = pd.read_csv(weather_file_path)\n",
    "stations_data = pd.read_csv(stations_file_path)\n",
    "\n",
    "# Merge the data based on the station ID\n",
    "merged_data = pd.merge(\n",
    "    weather_data,\n",
    "    stations_data[['id_station', 'lat', 'lon', 'lvl']],\n",
    "    left_on='ESTACAO',\n",
    "    right_on='id_station',\n",
    "    how='left'\n",
    ")\n",
    "\n",
    "# Drop the now-redundant 'id_station' column\n",
    "merged_data = merged_data.drop(columns=['id_station'])\n",
    "\n",
    "merged_data['week'] = merged_data['week'].apply(lambda x: str(x).replace('.0', '') if '.0' in str(x) else str(x))\n",
    "\n",
    "# Save the merged data to a new CSV file\n",
    "merged_data.to_csv(output_file_path, index=False)\n",
    "\n",
    "print(f\"Mergsd data saved to {output_file_path}\")\n"
   ],
   "id": "1e768108d3ec15ba",
   "outputs": [
    {
     "name": "stdout",
     "output_type": "stream",
     "text": [
      "Mergsd data saved to final/sorted_precipitation_data_with_stations.csv\n"
     ]
    }
   ],
   "execution_count": 9
  },
  {
   "metadata": {
    "ExecuteTime": {
     "end_time": "2024-12-14T08:36:21.363115Z",
     "start_time": "2024-12-14T08:36:18.533061Z"
    }
   },
   "cell_type": "code",
   "source": [
    "import pandas as pd\n",
    "import numpy as np\n",
    "from pykrige.ok import OrdinaryKriging\n",
    "\n",
    "# Load the sorted precipitation data\n",
    "data = pd.read_csv(\"../kriging/data/sorted_precipitation_data.csv\")\n",
    "\n",
    "# Function for kriging to predict precipitation for given city coordinates and altitude\n",
    "def predict_precipitation(city_lat, city_lon, city_lvl):\n",
    "    weeks = sorted(data['week'].unique())\n",
    "    predictions = []\n",
    "\n",
    "    for week in weeks:\n",
    "        # Filter data for the specific week\n",
    "        week_data = data[data['week'] == week]\n",
    "\n",
    "        # Extract known points and corresponding values\n",
    "        known_points = week_data[['lat', 'lon', 'lvl']].values\n",
    "        values_avg = week_data['precipitation_avg'].values\n",
    "        values_max = week_data['precipitation_max'].values\n",
    "\n",
    "        # Create kriging models for average and max precipitation\n",
    "        kriging_avg = OrdinaryKriging(\n",
    "            week_data['lat'], week_data['lon'], week_data['lvl'], values_avg,\n",
    "            variogram_model='linear', verbose=False, enable_plotting=False\n",
    "        )\n",
    "        kriging_max = OrdinaryKriging(\n",
    "            week_data['lat'], week_data['lon'], week_data['lvl'], values_max,\n",
    "            variogram_model='linear', verbose=False, enable_plotting=False\n",
    "        )\n",
    "\n",
    "        # Predict precipitation for the city\n",
    "        pred_avg, _ = kriging_avg.execute('points', city_lat, city_lon, city_lvl)\n",
    "        pred_max, _ = kriging_max.execute('points', city_lat, city_lon, city_lvl)\n",
    "\n",
    "        # Store the predictions for the week\n",
    "        predictions.append({\n",
    "            'week': week,\n",
    "            'predicted_precipitation_avg': pred_avg[0],\n",
    "            'predicted_precipitation_max': pred_max[0]\n",
    "        })\n",
    "\n",
    "    return pd.DataFrame(predictions)\n",
    "\n",
    "# Example usage:\n",
    "city_lat = 34.05  # Replace with your city's latitude\n",
    "city_lon = -118.25  # Replace with your city's longitude\n",
    "city_lvl = 89  # Replace with your city's altitude\n",
    "\n",
    "predicted_data = predict_precipitation(city_lat, city_lon, city_lvl)\n",
    "print(predicted_data)\n"
   ],
   "id": "7993702a0f459285",
   "outputs": [
    {
     "ename": "TypeError",
     "evalue": "OrdinaryKriging.__init__() got multiple values for argument 'variogram_model'",
     "output_type": "error",
     "traceback": [
      "\u001B[1;31m---------------------------------------------------------------------------\u001B[0m",
      "\u001B[1;31mTypeError\u001B[0m                                 Traceback (most recent call last)",
      "Cell \u001B[1;32mIn[5], line 50\u001B[0m\n\u001B[0;32m     47\u001B[0m city_lon \u001B[38;5;241m=\u001B[39m \u001B[38;5;241m-\u001B[39m\u001B[38;5;241m118.25\u001B[39m  \u001B[38;5;66;03m# Replace with your city's longitude\u001B[39;00m\n\u001B[0;32m     48\u001B[0m city_lvl \u001B[38;5;241m=\u001B[39m \u001B[38;5;241m89\u001B[39m  \u001B[38;5;66;03m# Replace with your city's altitude\u001B[39;00m\n\u001B[1;32m---> 50\u001B[0m predicted_data \u001B[38;5;241m=\u001B[39m \u001B[43mpredict_precipitation\u001B[49m\u001B[43m(\u001B[49m\u001B[43mcity_lat\u001B[49m\u001B[43m,\u001B[49m\u001B[43m \u001B[49m\u001B[43mcity_lon\u001B[49m\u001B[43m,\u001B[49m\u001B[43m \u001B[49m\u001B[43mcity_lvl\u001B[49m\u001B[43m)\u001B[49m\n\u001B[0;32m     51\u001B[0m \u001B[38;5;28mprint\u001B[39m(predicted_data)\n",
      "Cell \u001B[1;32mIn[5], line 23\u001B[0m, in \u001B[0;36mpredict_precipitation\u001B[1;34m(city_lat, city_lon, city_lvl)\u001B[0m\n\u001B[0;32m     20\u001B[0m values_max \u001B[38;5;241m=\u001B[39m week_data[\u001B[38;5;124m'\u001B[39m\u001B[38;5;124mprecipitation_max\u001B[39m\u001B[38;5;124m'\u001B[39m]\u001B[38;5;241m.\u001B[39mvalues\n\u001B[0;32m     22\u001B[0m \u001B[38;5;66;03m# Create kriging models for average and max precipitation\u001B[39;00m\n\u001B[1;32m---> 23\u001B[0m kriging_avg \u001B[38;5;241m=\u001B[39m \u001B[43mOrdinaryKriging\u001B[49m\u001B[43m(\u001B[49m\n\u001B[0;32m     24\u001B[0m \u001B[43m    \u001B[49m\u001B[43mweek_data\u001B[49m\u001B[43m[\u001B[49m\u001B[38;5;124;43m'\u001B[39;49m\u001B[38;5;124;43mlat\u001B[39;49m\u001B[38;5;124;43m'\u001B[39;49m\u001B[43m]\u001B[49m\u001B[43m,\u001B[49m\u001B[43m \u001B[49m\u001B[43mweek_data\u001B[49m\u001B[43m[\u001B[49m\u001B[38;5;124;43m'\u001B[39;49m\u001B[38;5;124;43mlon\u001B[39;49m\u001B[38;5;124;43m'\u001B[39;49m\u001B[43m]\u001B[49m\u001B[43m,\u001B[49m\u001B[43m \u001B[49m\u001B[43mweek_data\u001B[49m\u001B[43m[\u001B[49m\u001B[38;5;124;43m'\u001B[39;49m\u001B[38;5;124;43mlvl\u001B[39;49m\u001B[38;5;124;43m'\u001B[39;49m\u001B[43m]\u001B[49m\u001B[43m,\u001B[49m\u001B[43m \u001B[49m\u001B[43mvalues_avg\u001B[49m\u001B[43m,\u001B[49m\n\u001B[0;32m     25\u001B[0m \u001B[43m    \u001B[49m\u001B[43mvariogram_model\u001B[49m\u001B[38;5;241;43m=\u001B[39;49m\u001B[38;5;124;43m'\u001B[39;49m\u001B[38;5;124;43mlinear\u001B[39;49m\u001B[38;5;124;43m'\u001B[39;49m\u001B[43m,\u001B[49m\u001B[43m \u001B[49m\u001B[43mverbose\u001B[49m\u001B[38;5;241;43m=\u001B[39;49m\u001B[38;5;28;43;01mFalse\u001B[39;49;00m\u001B[43m,\u001B[49m\u001B[43m \u001B[49m\u001B[43menable_plotting\u001B[49m\u001B[38;5;241;43m=\u001B[39;49m\u001B[38;5;28;43;01mFalse\u001B[39;49;00m\n\u001B[0;32m     26\u001B[0m \u001B[43m\u001B[49m\u001B[43m)\u001B[49m\n\u001B[0;32m     27\u001B[0m kriging_max \u001B[38;5;241m=\u001B[39m OrdinaryKriging(\n\u001B[0;32m     28\u001B[0m     week_data[\u001B[38;5;124m'\u001B[39m\u001B[38;5;124mlat\u001B[39m\u001B[38;5;124m'\u001B[39m], week_data[\u001B[38;5;124m'\u001B[39m\u001B[38;5;124mlon\u001B[39m\u001B[38;5;124m'\u001B[39m], week_data[\u001B[38;5;124m'\u001B[39m\u001B[38;5;124mlvl\u001B[39m\u001B[38;5;124m'\u001B[39m], values_max,\n\u001B[0;32m     29\u001B[0m     variogram_model\u001B[38;5;241m=\u001B[39m\u001B[38;5;124m'\u001B[39m\u001B[38;5;124mlinear\u001B[39m\u001B[38;5;124m'\u001B[39m, verbose\u001B[38;5;241m=\u001B[39m\u001B[38;5;28;01mFalse\u001B[39;00m, enable_plotting\u001B[38;5;241m=\u001B[39m\u001B[38;5;28;01mFalse\u001B[39;00m\n\u001B[0;32m     30\u001B[0m )\n\u001B[0;32m     32\u001B[0m \u001B[38;5;66;03m# Predict precipitation for the city\u001B[39;00m\n",
      "\u001B[1;31mTypeError\u001B[0m: OrdinaryKriging.__init__() got multiple values for argument 'variogram_model'"
     ]
    }
   ],
   "execution_count": 5
  },
  {
   "metadata": {},
   "cell_type": "code",
   "outputs": [],
   "execution_count": null,
   "source": "",
   "id": "3821d85e8bc31fb5"
  },
  {
   "metadata": {
    "ExecuteTime": {
     "end_time": "2024-12-14T11:45:35.593534Z",
     "start_time": "2024-12-14T11:45:35.162302Z"
    }
   },
   "cell_type": "code",
   "source": [
    "def remove_nan_precipitation(filepath):\n",
    "    data = pd.read_csv(filepath)\n",
    "    cleaned_data = data.dropna(subset=['precipitation_avg', 'precipitation_max'])\n",
    "    cleaned_data.to_csv(filepath, index=False)\n",
    "    \n",
    "remove_nan_precipitation(\"../kriging/data/sorted_precipitation_data.csv\")"
   ],
   "id": "bf6f94cc940df2b4",
   "outputs": [],
   "execution_count": 18
  },
  {
   "metadata": {
    "ExecuteTime": {
     "end_time": "2024-12-14T08:51:41.216489Z",
     "start_time": "2024-12-14T08:51:41.212123Z"
    }
   },
   "cell_type": "code",
   "source": "",
   "id": "99b844007c7bbed9",
   "outputs": [],
   "execution_count": 5
  },
  {
   "metadata": {
    "ExecuteTime": {
     "end_time": "2024-12-14T09:08:15.581240Z",
     "start_time": "2024-12-14T09:08:15.107343Z"
    }
   },
   "cell_type": "code",
   "source": [
    "from pykrige.uk import UniversalKriging\n",
    "import pandas as pd\n",
    "\n",
    "# Load the sorted precipitation data\n",
    "data = pd.read_csv(\"../kriging/data/sorted_precipitation_data.csv\")\n",
    "\n",
    "# Function to predict precipitation using Universal Kriging\n",
    "def predict_precipitation(city_lat, city_lon, city_lvl):\n",
    "    weeks = sorted(data['week'].unique())\n",
    "    predictions = []\n",
    "\n",
    "    for week in weeks:\n",
    "        # Filter data for the specific week\n",
    "        week_data = data[data['week'] == week]\n",
    "\n",
    "        # Universal Kriging for precipitation_avg\n",
    "        uk_avg = UniversalKriging(\n",
    "            week_data['lat'], week_data['lon'], week_data['precipitation_avg'],\n",
    "            variogram_model=\"linear\", drift_terms=[\"external_Z\"],\n",
    "            external_drift=week_data[\"lvl\"].values,\n",
    "            external_drift_x=week_data['lat'].values,  # Adding latitude as external drift coordinates\n",
    "            external_drift_y=week_data['lon'].values   # Adding longitude as external drift coordinates\n",
    "        )\n",
    "        pred_avg, _ = uk_avg.execute(\"points\", [city_lat], [city_lon], [city_lvl])\n",
    "\n",
    "        # Universal Kriging for precipitation_max\n",
    "        uk_max = UniversalKriging(\n",
    "            week_data['lat'], week_data['lon'], week_data['precipitation_max'],\n",
    "            variogram_model=\"linear\", drift_terms=[\"external_Z\"],\n",
    "            external_drift=week_data[\"lvl\"].values,\n",
    "            external_drift_x=week_data['lat'].values,  # Adding latitude as external drift coordinates\n",
    "            external_drift_y=week_data['lon'].values   # Adding longitude as external drift coordinates\n",
    "        )\n",
    "        pred_max, _ = uk_max.execute(\"points\", [city_lat], [city_lon], [city_lvl])\n",
    "\n",
    "        # Safely access the predictions and append them\n",
    "        predictions.append({\n",
    "            'week': week,\n",
    "            'predicted_precipitation_avg': pred_avg[0][0],  # First value of the prediction\n",
    "            'predicted_precipitation_max': pred_max[0][0]   # First value of the prediction\n",
    "        })\n",
    "\n",
    "    return pd.DataFrame(predictions)\n",
    "\n",
    "# Example usage with provided coordinates\n",
    "city_lat = -22  # Replace with your city's latitude\n",
    "city_lon = -6   # Replace with your city's longitude\n",
    "city_lvl = 43   # Replace with your city's altitude\n",
    "\n",
    "predicted_data = predict_precipitation(city_lat, city_lon, city_lvl)\n",
    "print(predicted_data)\n"
   ],
   "id": "937c77f1458d268d",
   "outputs": [
    {
     "ename": "ValueError",
     "evalue": "Must specify coordinates of external Z drift terms.",
     "output_type": "error",
     "traceback": [
      "\u001B[1;31m---------------------------------------------------------------------------\u001B[0m",
      "\u001B[1;31mValueError\u001B[0m                                Traceback (most recent call last)",
      "Cell \u001B[1;32mIn[13], line 50\u001B[0m\n\u001B[0;32m     47\u001B[0m city_lon \u001B[38;5;241m=\u001B[39m \u001B[38;5;241m-\u001B[39m\u001B[38;5;241m6\u001B[39m   \u001B[38;5;66;03m# Replace with your city's longitude\u001B[39;00m\n\u001B[0;32m     48\u001B[0m city_lvl \u001B[38;5;241m=\u001B[39m \u001B[38;5;241m43\u001B[39m   \u001B[38;5;66;03m# Replace with your city's altitude\u001B[39;00m\n\u001B[1;32m---> 50\u001B[0m predicted_data \u001B[38;5;241m=\u001B[39m \u001B[43mpredict_precipitation\u001B[49m\u001B[43m(\u001B[49m\u001B[43mcity_lat\u001B[49m\u001B[43m,\u001B[49m\u001B[43m \u001B[49m\u001B[43mcity_lon\u001B[49m\u001B[43m,\u001B[49m\u001B[43m \u001B[49m\u001B[43mcity_lvl\u001B[49m\u001B[43m)\u001B[49m\n\u001B[0;32m     51\u001B[0m \u001B[38;5;28mprint\u001B[39m(predicted_data)\n",
      "Cell \u001B[1;32mIn[13], line 21\u001B[0m, in \u001B[0;36mpredict_precipitation\u001B[1;34m(city_lat, city_lon, city_lvl)\u001B[0m\n\u001B[0;32m     18\u001B[0m external_drift \u001B[38;5;241m=\u001B[39m np\u001B[38;5;241m.\u001B[39mcolumn_stack((week_data[\u001B[38;5;124m\"\u001B[39m\u001B[38;5;124mlvl\u001B[39m\u001B[38;5;124m\"\u001B[39m]\u001B[38;5;241m.\u001B[39mvalues, week_data[\u001B[38;5;124m\"\u001B[39m\u001B[38;5;124mlat\u001B[39m\u001B[38;5;124m\"\u001B[39m]\u001B[38;5;241m.\u001B[39mvalues, week_data[\u001B[38;5;124m\"\u001B[39m\u001B[38;5;124mlon\u001B[39m\u001B[38;5;124m\"\u001B[39m]\u001B[38;5;241m.\u001B[39mvalues))\n\u001B[0;32m     20\u001B[0m \u001B[38;5;66;03m# Universal Kriging for precipitation_avg\u001B[39;00m\n\u001B[1;32m---> 21\u001B[0m uk_avg \u001B[38;5;241m=\u001B[39m \u001B[43mUniversalKriging\u001B[49m\u001B[43m(\u001B[49m\n\u001B[0;32m     22\u001B[0m \u001B[43m    \u001B[49m\u001B[43mweek_data\u001B[49m\u001B[43m[\u001B[49m\u001B[38;5;124;43m'\u001B[39;49m\u001B[38;5;124;43mlat\u001B[39;49m\u001B[38;5;124;43m'\u001B[39;49m\u001B[43m]\u001B[49m\u001B[43m,\u001B[49m\u001B[43m \u001B[49m\u001B[43mweek_data\u001B[49m\u001B[43m[\u001B[49m\u001B[38;5;124;43m'\u001B[39;49m\u001B[38;5;124;43mlon\u001B[39;49m\u001B[38;5;124;43m'\u001B[39;49m\u001B[43m]\u001B[49m\u001B[43m,\u001B[49m\u001B[43m \u001B[49m\u001B[43mweek_data\u001B[49m\u001B[43m[\u001B[49m\u001B[38;5;124;43m'\u001B[39;49m\u001B[38;5;124;43mprecipitation_avg\u001B[39;49m\u001B[38;5;124;43m'\u001B[39;49m\u001B[43m]\u001B[49m\u001B[43m,\u001B[49m\n\u001B[0;32m     23\u001B[0m \u001B[43m    \u001B[49m\u001B[43mvariogram_model\u001B[49m\u001B[38;5;241;43m=\u001B[39;49m\u001B[38;5;124;43m\"\u001B[39;49m\u001B[38;5;124;43mlinear\u001B[39;49m\u001B[38;5;124;43m\"\u001B[39;49m\u001B[43m,\u001B[49m\u001B[43m \u001B[49m\u001B[43mdrift_terms\u001B[49m\u001B[38;5;241;43m=\u001B[39;49m\u001B[43m[\u001B[49m\u001B[38;5;124;43m\"\u001B[39;49m\u001B[38;5;124;43mexternal_Z\u001B[39;49m\u001B[38;5;124;43m\"\u001B[39;49m\u001B[43m]\u001B[49m\u001B[43m,\u001B[49m\n\u001B[0;32m     24\u001B[0m \u001B[43m    \u001B[49m\u001B[43mexternal_drift\u001B[49m\u001B[38;5;241;43m=\u001B[39;49m\u001B[43mexternal_drift\u001B[49m\u001B[43m  \u001B[49m\u001B[38;5;66;43;03m# Pass the 2D array for external drift\u001B[39;49;00m\n\u001B[0;32m     25\u001B[0m \u001B[43m\u001B[49m\u001B[43m)\u001B[49m\n\u001B[0;32m     26\u001B[0m pred_avg, _ \u001B[38;5;241m=\u001B[39m uk_avg\u001B[38;5;241m.\u001B[39mexecute(\u001B[38;5;124m\"\u001B[39m\u001B[38;5;124mpoints\u001B[39m\u001B[38;5;124m\"\u001B[39m, [city_lat], [city_lon], [city_lvl])\n\u001B[0;32m     28\u001B[0m \u001B[38;5;66;03m# Universal Kriging for precipitation_max\u001B[39;00m\n",
      "File \u001B[1;32m~\\PycharmProjects\\FYP-dc\\.venv\\Lib\\site-packages\\pykrige\\uk.py:415\u001B[0m, in \u001B[0;36mUniversalKriging.__init__\u001B[1;34m(self, x, y, z, variogram_model, variogram_parameters, variogram_function, nlags, weight, anisotropy_scaling, anisotropy_angle, drift_terms, point_drift, external_drift, external_drift_x, external_drift_y, specified_drift, functional_drift, verbose, enable_plotting, exact_values, pseudo_inv, pseudo_inv_type)\u001B[0m\n\u001B[0;32m    413\u001B[0m     \u001B[38;5;28;01mraise\u001B[39;00m \u001B[38;5;167;01mValueError\u001B[39;00m(\u001B[38;5;124m\"\u001B[39m\u001B[38;5;124mMust specify external Z drift terms.\u001B[39m\u001B[38;5;124m\"\u001B[39m)\n\u001B[0;32m    414\u001B[0m \u001B[38;5;28;01mif\u001B[39;00m external_drift_x \u001B[38;5;129;01mis\u001B[39;00m \u001B[38;5;28;01mNone\u001B[39;00m \u001B[38;5;129;01mor\u001B[39;00m external_drift_y \u001B[38;5;129;01mis\u001B[39;00m \u001B[38;5;28;01mNone\u001B[39;00m:\n\u001B[1;32m--> 415\u001B[0m     \u001B[38;5;28;01mraise\u001B[39;00m \u001B[38;5;167;01mValueError\u001B[39;00m(\u001B[38;5;124m\"\u001B[39m\u001B[38;5;124mMust specify coordinates of external Z drift terms.\u001B[39m\u001B[38;5;124m\"\u001B[39m)\n\u001B[0;32m    416\u001B[0m \u001B[38;5;28mself\u001B[39m\u001B[38;5;241m.\u001B[39mexternal_Z_drift \u001B[38;5;241m=\u001B[39m \u001B[38;5;28;01mTrue\u001B[39;00m\n\u001B[0;32m    417\u001B[0m \u001B[38;5;28;01mif\u001B[39;00m (\n\u001B[0;32m    418\u001B[0m     external_drift\u001B[38;5;241m.\u001B[39mshape[\u001B[38;5;241m0\u001B[39m] \u001B[38;5;241m!=\u001B[39m external_drift_y\u001B[38;5;241m.\u001B[39mshape[\u001B[38;5;241m0\u001B[39m]\n\u001B[0;32m    419\u001B[0m     \u001B[38;5;129;01mor\u001B[39;00m external_drift\u001B[38;5;241m.\u001B[39mshape[\u001B[38;5;241m1\u001B[39m] \u001B[38;5;241m!=\u001B[39m external_drift_x\u001B[38;5;241m.\u001B[39mshape[\u001B[38;5;241m0\u001B[39m]\n\u001B[0;32m    420\u001B[0m ):\n",
      "\u001B[1;31mValueError\u001B[0m: Must specify coordinates of external Z drift terms."
     ]
    }
   ],
   "execution_count": 13
  },
  {
   "metadata": {},
   "cell_type": "markdown",
   "source": "Using regressing\n",
   "id": "c2ff4ce9e8a070c1"
  },
  {
   "metadata": {
    "ExecuteTime": {
     "end_time": "2024-12-23T10:18:21.828733Z",
     "start_time": "2024-12-23T10:18:21.769317Z"
    }
   },
   "cell_type": "code",
   "source": [
    "data = pd.read_csv(\"final/sorted_precipitation_data_with_stations.csv\")\n",
    "cities_data = pd.read_csv(\"final/filtered_RJ_lat_long_data.csv\")\n",
    "data['week'] = data['week'].astype(str)\n",
    "weeks = sorted(data['week'].unique())\n",
    "# show head\n",
    "print(data.head())\n",
    "print(cities_data.head())\n",
    "print(weeks)"
   ],
   "id": "9e1b99da969f1df3",
   "outputs": [
    {
     "name": "stdout",
     "output_type": "stream",
     "text": [
      "  ESTACAO      week  precipitation_avg  precipitation_max        lat  \\\n",
      "0    A601  201201.0          14.171429              66.20 -22.800000   \n",
      "1    A603  201201.0           3.771429              12.84 -22.589722   \n",
      "2    A621  201201.0           2.714286              11.20 -22.860833   \n",
      "3    A624  201201.0           5.771429              17.20 -22.333056   \n",
      "4    A604  201201.0           7.514286              18.40 -21.566667   \n",
      "\n",
      "         lon     lvl  \n",
      "0 -43.683333    33.0  \n",
      "1 -43.282222    33.0  \n",
      "2 -43.411111    45.0  \n",
      "3 -42.677222  1046.0  \n",
      "4 -41.950000    35.0  \n",
      "                 CITY STATE       LONG        LAT     ALT\n",
      "0      Angra Dos Reis    RJ -44.319627 -23.009116    7.64\n",
      "1             Aperibé    RJ -42.104917 -21.619422   65.93\n",
      "2            Araruama    RJ -42.341096 -22.877438   12.10\n",
      "3               Areal    RJ -43.101070 -22.236912  450.69\n",
      "4  Armação Dos Búzios    RJ -41.887749 -22.757764   10.97\n",
      "['201201.0', '201202.0', '201203.0', '201204.0', '201205.0', '201206.0', '201207.0', '201208.0', '201209.0', '201210.0', '201211.0', '201212.0', '201213.0', '201214.0', '201215.0', '201216.0', '201217.0', '201218.0', '201219.0', '201220.0', '201221.0', '201222.0', '201223.0', '201224.0', '201225.0', '201226.0', '201227.0', '201228.0', '201229.0', '201230.0', '201231.0', '201232.0', '201233.0', '201234.0', '201235.0', '201236.0', '201237.0', '201238.0', '201239.0', '201240.0', '201241.0', '201242.0', '201243.0', '201244.0', '201245.0', '201246.0', '201247.0', '201248.0', '201249.0', '201250.0', '201251.0', '201252.0', '201301.0', '201302.0', '201303.0', '201304.0', '201305.0', '201306.0', '201307.0', '201308.0', '201309.0', '201310.0', '201311.0', '201312.0', '201313.0', '201314.0', '201315.0', '201316.0', '201317.0', '201318.0', '201319.0', '201320.0', '201321.0', '201322.0', '201323.0', '201324.0', '201325.0', '201326.0', '201327.0', '201328.0', '201329.0', '201330.0', '201331.0', '201332.0', '201333.0', '201334.0', '201335.0', '201336.0', '201337.0', '201338.0', '201339.0', '201340.0', '201341.0', '201342.0', '201343.0', '201344.0', '201345.0', '201346.0', '201347.0', '201348.0', '201349.0', '201350.0', '201351.0', '201352.0', '201377.4', '201401.0', '201402.0', '201403.0', '201404.0', '201405.0', '201406.0', '201407.0', '201408.0', '201409.0', '201410.0', '201411.0', '201412.0', '201413.0', '201414.0', '201415.0', '201416.0', '201417.0', '201417.8', '201418.0', '201419.0', '201420.0', '201421.0', '201422.0', '201423.0', '201424.0', '201425.0', '201426.0', '201427.0', '201428.0', '201429.0', '201429.6', '201430.0', '201431.0', '201432.0', '201433.0', '201434.0', '201435.0', '201436.0', '201437.0', '201438.0', '201439.0', '201440.0', '201441.0', '201442.0', '201443.0', '201444.0', '201445.0', '201446.0', '201447.0', '201448.0', '201449.0', '201450.0', '201451.0', '201452.0', '201453.0', '201501.0', '201502.0', '201503.0', '201503.2', '201504.0', '201505.0', '201506.0', '201507.0', '201508.0', '201509.0', '201510.0', '201511.0', '201512.0', '201513.0', '201514.0', '201515.0', '201516.0', '201517.0', '201518.0', '201519.0', '201520.0', '201521.0', '201521.6', '201522.0', '201523.0', '201524.0', '201525.0', '201526.0', '201527.0', '201528.0', '201529.0', '201530.0', '201531.0', '201532.0', '201533.0', '201534.0', '201535.0', '201536.0', '201537.0', '201538.0', '201539.0', '201540.0', '201541.0', '201542.0', '201543.0', '201544.0', '201545.0', '201546.0', '201547.0', '201548.0', '201549.0', '201550.0', '201551.0', '201552.0', '201564.0', '201564.2', '201569.0', '201573.6', '201598.8', '201599.6', '201601.0', '201602.0', '201603.0', '201604.0', '201605.0', '201606.0', '201607.0', '201608.0', '201609.0', '201610.0', '201611.0', '201612.0', '201613.0', '201614.0', '201615.0', '201616.0', '201617.0', '201618.0', '201619.0', '201620.0', '201621.0', '201622.0', '201623.0', '201624.0', '201625.0', '201626.0', '201627.0', '201628.0', '201629.0', '201630.0', '201631.0', '201632.0', '201633.0', '201634.0', '201635.0', '201635.6', '201636.0', '201637.0', '201638.0', '201639.0', '201640.0', '201641.0', '201642.0', '201643.0', '201644.0', '201645.0', '201646.0', '201647.0', '201648.0', '201649.0', '201649.6', '201650.0', '201651.0', '201652.0', '201658.8', '201674.6', '201692.4', '201701.0', '201702.0', '201703.0', '201704.0', '201705.0', '201706.0', '201707.0', '201707.8', '201708.0', '201709.0', '201710.0', '201711.0', '201712.0', '201713.0', '201714.0', '201715.0', '201716.0', '201717.0', '201718.0', '201719.0', '201720.0', '201721.0', '201722.0', '201723.0', '201723.8', '201724.0', '201724.6', '201724.8', '201725.0', '201726.0', '201727.0', '201728.0', '201729.0', '201730.0', '201731.0', '201732.0', '201733.0', '201734.0', '201735.0', '201736.0', '201737.0', '201738.0', '201739.0', '201740.0', '201741.0', '201741.8', '201742.0', '201743.0', '201744.0', '201745.0', '201746.0', '201747.0', '201748.0', '201749.0', '201750.0', '201751.0', '201751.6', '201752.0', '201759.6', '201764.2', '201767.0', '201768.6', '201774.0', '201783.0', '201795.0', '201797.6', '201801.0', '201802.0', '201803.0', '201804.0', '201805.0', '201806.0', '201807.0', '201808.0', '201808.2', '201809.0', '201810.0', '201811.0', '201811.4', '201812.0', '201813.0', '201814.0', '201815.0', '201816.0', '201817.0', '201818.0', '201819.0', '201820.0', '201821.0', '201822.0', '201823.0', '201824.0', '201824.4', '201825.0', '201826.0', '201827.0', '201828.0', '201829.0', '201830.0', '201831.0', '201832.0', '201833.0', '201834.0', '201835.0', '201835.2', '201836.0', '201836.8', '201837.0', '201838.0', '201839.0', '201839.8', '201840.0', '201841.0', '201842.0', '201842.6', '201843.0', '201844.0', '201844.6', '201845.0', '201846.0', '201847.0', '201848.0', '201848.2', '201849.0', '201849.8', '201850.0', '201851.0', '201852.0', '201853.6', '201854.0', '201858.6', '201859.2', '201864.4', '201881.2', '201883.6', '201884.8', '201886.0', '201898.0', '201899.6', '201901.0', '201902.0', '201903.0', '201904.0', '201904.2', '201905.0', '201906.0', '201907.0', '201908.0', '201909.0', '201910.0', '201910.4', '201911.0', '201912.0', '201913.0', '201914.0', '201915.0', '201915.4', '201916.0', '201916.4', '201916.8', '201917.0', '201918.0', '201919.0', '201920.0', '201921.0', '201922.0', '201923.0', '201924.0', '201925.0', '201926.0', '201926.6', '201927.0', '201927.6', '201928.0', '201929.0', '201930.0', '201931.0', '201932.0', '201933.0', '201934.0', '201935.0', '201936.0', '201937.0', '201938.0', '201939.0', '201939.2', '201940.0', '201941.0', '201942.0', '201943.0', '201944.0', '201945.0', '201946.0', '201947.0', '201947.2', '201948.0', '201949.0', '201950.0', '201951.0', '201951.2', '201952.0', '201964.2', '201964.4', '201966.2', '201969.0', '201976.0', '201979.8', '201980.2', '201984.6', '201985.4', '201997.8', '201998.2', '202000.8', '202001.0', '202002.0', '202003.0', '202003.2', '202004.0', '202005.0', '202006.0', '202007.0', '202008.0', '202009.0', '202010.0', '202010.2', '202011.0', '202012.0', '202012.6', '202013.0', '202013.4', '202014.0', '202014.2', '202015.0', '202016.0', '202017.0', '202018.0', '202018.6', '202019.0', '202020.0', '202021.0', '202022.0', '202022.2', '202023.0', '202023.6', '202024.0', '202025.0', '202025.8', '202026.0', '202027.0', '202028.0', '202029.0', '202030.0', '202031.0', '202032.0', '202033.0', '202034.0', '202035.0', '202036.0', '202037.0', '202038.0', '202039.0', '202040.0', '202041.0', '202042.0', '202043.0', '202044.0', '202045.0', '202046.0', '202047.0', '202048.0', '202049.0', '202050.0', '202051.0', '202052.0', '202053.0', '202077.0', '202101.0', '202102.0', '202103.0', '202103.8', '202104.0', '202105.0', '202106.0', '202107.0', '202108.0', '202109.0', '202110.0', '202111.0', '202112.0', '202113.0', '202114.0', '202115.0', '202116.0', '202117.0', '202118.0', '202119.0', '202120.0', '202121.0', '202122.0', '202123.0', '202124.0', '202125.0', '202126.0', '202127.0', '202128.0', '202129.0', '202130.0', '202131.0', '202132.0', '202133.0', '202134.0', '202135.0', '202136.0', '202137.0', '202138.0', '202139.0', '202140.0', '202141.0', '202142.0', '202143.0', '202144.0', '202145.0', '202146.0', '202147.0', '202148.0', '202149.0', '202150.0', '202151.0', '202152.0', '202201.0', '202202.0', '202203.0', '202204.0', '202205.0', '202206.0', '202207.0', '202208.0', '202209.0', '202210.0', '202211.0', '202212.0', '202213.0', '202214.0', '202215.0', '202216.0', '202217.0', '202218.0', '202219.0', '202220.0', '202221.0', '202222.0', '202223.0', '202224.0', '202225.0', '202226.0', '202227.0', '202228.0', '202229.0', '202230.0', '202231.0', '202232.0', '202233.0', '202234.0', '202235.0', '202236.0', '202237.0', '202238.0', '202239.0', '202240.0', '202241.0', '202242.0', '202243.0', '202244.0', '202245.0', '202246.0', '202247.0', '202248.0', '202249.0', '202250.0', '202251.0', '202252.0']\n"
     ]
    }
   ],
   "execution_count": 16
  },
  {
   "metadata": {
    "ExecuteTime": {
     "end_time": "2024-12-23T10:21:09.687818Z",
     "start_time": "2024-12-23T10:21:07.041807Z"
    }
   },
   "cell_type": "code",
   "source": [
    "import pandas as pd\n",
    "import numpy as np\n",
    "from sklearn.linear_model import LinearRegression\n",
    "from pykrige.ok import OrdinaryKriging\n",
    "\n",
    "# Load the sorted precipitation data\n",
    "data = pd.read_csv(\"final/sorted_precipitation_data_with_stations.csv\")\n",
    "cities_data = pd.read_csv(\"final/filtered_RJ_lat_long_data.csv\")\n",
    "\n",
    "data['week'] = data['week'].astype(str)\n",
    "data['week'] = data['week'].apply(lambda x: x.replace('.0', '') if '.0' in x else x)\n",
    "data['week'] = data['week'].astype(str)\n",
    "\n",
    "# Function for kriging precipitation with altitude adjustment\n",
    "def predict_precipitation_regression(city_lat, city_lon, city_lvl):\n",
    "    weeks = sorted(data['week'].unique())\n",
    "    \n",
    "    print(weeks)\n",
    "    predictions = []\n",
    "\n",
    "    for week in weeks:\n",
    "        # Filter data for the specific week\n",
    "        week_data = data[data['week'] == week]\n",
    "\n",
    "        # Extract features for regression\n",
    "        X = week_data[['lvl']].values  # Altitude\n",
    "        y_avg = week_data['precipitation_avg'].values\n",
    "        y_max = week_data['precipitation_max'].values\n",
    "\n",
    "        # Perform linear regression on altitude\n",
    "        reg_avg = LinearRegression().fit(X, y_avg)\n",
    "        reg_max = LinearRegression().fit(X, y_max)\n",
    "\n",
    "        # Calculate residuals\n",
    "        residuals_avg = y_avg - reg_avg.predict(X)\n",
    "        residuals_max = y_max - reg_max.predict(X)\n",
    "\n",
    "        # Perform kriging on residuals\n",
    "        kriging_avg = OrdinaryKriging(\n",
    "            week_data['lat'], week_data['lon'], residuals_avg,\n",
    "            variogram_model='linear', verbose=False, enable_plotting=False\n",
    "        )\n",
    "        kriging_max = OrdinaryKriging(\n",
    "            week_data['lat'], week_data['lon'], residuals_max,\n",
    "            variogram_model='linear', verbose=False, enable_plotting=False\n",
    "        )\n",
    "\n",
    "        # Predict residuals for the city\n",
    "        residual_avg, _ = kriging_avg.execute('points', float(city_lat), float(city_lon))\n",
    "        residual_max, _ = kriging_max.execute('points', float(city_lat), float(city_lon))\n",
    "\n",
    "        # Add the altitude effect back to the prediction\n",
    "        pred_avg = reg_avg.predict([[city_lvl]])[0] + residual_avg[0]\n",
    "        pred_max = reg_max.predict([[city_lvl]])[0] + residual_max[0]\n",
    "\n",
    "        # Store the predictions for the week\n",
    "        predictions.append({\n",
    "            'week': week,\n",
    "            'predicted_precipitation_avg': pred_avg,\n",
    "            'predicted_precipitation_max': pred_max\n",
    "        })\n",
    "\n",
    "    return predictions\n",
    "\n",
    "results = []\n",
    "for _, city in cities_data.iterrows():\n",
    "    city_name = city['CITY']\n",
    "    city_lat = city['LAT']\n",
    "    city_lon = city['LONG']\n",
    "    city_lvl = city['ALT']\n",
    "\n",
    "    # Predict precipitation for the current city\n",
    "    city_predictions = predict_precipitation_regression(city_lat, city_lon, city_lvl)\n",
    "\n",
    "    # Add city name to each prediction\n",
    "    for prediction in city_predictions:\n",
    "        prediction['CITY'] = city_name\n",
    "        results.append(prediction)\n",
    "\n",
    "# Convert results to a DataFrame and save as a CSV file\n",
    "output_df = pd.DataFrame(results)\n",
    "output_df.to_csv(\"final/predicted_precipitation_kriging_regression.csv\", index=False)\n",
    "\n",
    "print(\"Predictions saved to '../kriging/final/predicted_precipitation_by_week.csv'\")\n"
   ],
   "id": "37bc80ea926f3be8",
   "outputs": [
    {
     "name": "stdout",
     "output_type": "stream",
     "text": [
      "['201201', '201202', '201203', '201204', '201205', '201206', '201207', '201208', '201209', '201210', '201211', '201212', '201213', '201214', '201215', '201216', '201217', '201218', '201219', '201220', '201221', '201222', '201223', '201224', '201225', '201226', '201227', '201228', '201229', '201230', '201231', '201232', '201233', '201234', '201235', '201236', '201237', '201238', '201239', '201240', '201241', '201242', '201243', '201244', '201245', '201246', '201247', '201248', '201249', '201250', '201251', '201252', '201301', '201302', '201303', '201304', '201305', '201306', '201307', '201308', '201309', '201310', '201311', '201312', '201313', '201314', '201315', '201316', '201317', '201318', '201319', '201320', '201321', '201322', '201323', '201324', '201325', '201326', '201327', '201328', '201329', '201330', '201331', '201332', '201333', '201334', '201335', '201336', '201337', '201338', '201339', '201340', '201341', '201342', '201343', '201344', '201345', '201346', '201347', '201348', '201349', '201350', '201351', '201352', '201377.4', '201401', '201402', '201403', '201404', '201405', '201406', '201407', '201408', '201409', '201410', '201411', '201412', '201413', '201414', '201415', '201416', '201417', '201417.8', '201418', '201419', '201420', '201421', '201422', '201423', '201424', '201425', '201426', '201427', '201428', '201429', '201429.6', '201430', '201431', '201432', '201433', '201434', '201435', '201436', '201437', '201438', '201439', '201440', '201441', '201442', '201443', '201444', '201445', '201446', '201447', '201448', '201449', '201450', '201451', '201452', '201453', '201501', '201502', '201503', '201503.2', '201504', '201505', '201506', '201507', '201508', '201509', '201510', '201511', '201512', '201513', '201514', '201515', '201516', '201517', '201518', '201519', '201520', '201521', '201521.6', '201522', '201523', '201524', '201525', '201526', '201527', '201528', '201529', '201530', '201531', '201532', '201533', '201534', '201535', '201536', '201537', '201538', '201539', '201540', '201541', '201542', '201543', '201544', '201545', '201546', '201547', '201548', '201549', '201550', '201551', '201552', '201564', '201564.2', '201569', '201573.6', '201598.8', '201599.6', '201601', '201602', '201603', '201604', '201605', '201606', '201607', '201608', '201609', '201610', '201611', '201612', '201613', '201614', '201615', '201616', '201617', '201618', '201619', '201620', '201621', '201622', '201623', '201624', '201625', '201626', '201627', '201628', '201629', '201630', '201631', '201632', '201633', '201634', '201635', '201635.6', '201636', '201637', '201638', '201639', '201640', '201641', '201642', '201643', '201644', '201645', '201646', '201647', '201648', '201649', '201649.6', '201650', '201651', '201652', '201658.8', '201674.6', '201692.4', '201701', '201702', '201703', '201704', '201705', '201706', '201707', '201707.8', '201708', '201709', '201710', '201711', '201712', '201713', '201714', '201715', '201716', '201717', '201718', '201719', '201720', '201721', '201722', '201723', '201723.8', '201724', '201724.6', '201724.8', '201725', '201726', '201727', '201728', '201729', '201730', '201731', '201732', '201733', '201734', '201735', '201736', '201737', '201738', '201739', '201740', '201741', '201741.8', '201742', '201743', '201744', '201745', '201746', '201747', '201748', '201749', '201750', '201751', '201751.6', '201752', '201759.6', '201764.2', '201767', '201768.6', '201774', '201783', '201795', '201797.6', '201801', '201802', '201803', '201804', '201805', '201806', '201807', '201808', '201808.2', '201809', '201810', '201811', '201811.4', '201812', '201813', '201814', '201815', '201816', '201817', '201818', '201819', '201820', '201821', '201822', '201823', '201824', '201824.4', '201825', '201826', '201827', '201828', '201829', '201830', '201831', '201832', '201833', '201834', '201835', '201835.2', '201836', '201836.8', '201837', '201838', '201839', '201839.8', '201840', '201841', '201842', '201842.6', '201843', '201844', '201844.6', '201845', '201846', '201847', '201848', '201848.2', '201849', '201849.8', '201850', '201851', '201852', '201853.6', '201854', '201858.6', '201859.2', '201864.4', '201881.2', '201883.6', '201884.8', '201886', '201898', '201899.6', '201901', '201902', '201903', '201904', '201904.2', '201905', '201906', '201907', '201908', '201909', '201910', '201910.4', '201911', '201912', '201913', '201914', '201915', '201915.4', '201916', '201916.4', '201916.8', '201917', '201918', '201919', '201920', '201921', '201922', '201923', '201924', '201925', '201926', '201926.6', '201927', '201927.6', '201928', '201929', '201930', '201931', '201932', '201933', '201934', '201935', '201936', '201937', '201938', '201939', '201939.2', '201940', '201941', '201942', '201943', '201944', '201945', '201946', '201947', '201947.2', '201948', '201949', '201950', '201951', '201951.2', '201952', '201964.2', '201964.4', '201966.2', '201969', '201976', '201979.8', '201980.2', '201984.6', '201985.4', '201997.8', '201998.2', '202000.8', '202001', '202002', '202003', '202003.2', '202004', '202005', '202006', '202007', '202008', '202009', '202010', '202010.2', '202011', '202012', '202012.6', '202013', '202013.4', '202014', '202014.2', '202015', '202016', '202017', '202018', '202018.6', '202019', '202020', '202021', '202022', '202022.2', '202023', '202023.6', '202024', '202025', '202025.8', '202026', '202027', '202028', '202029', '202030', '202031', '202032', '202033', '202034', '202035', '202036', '202037', '202038', '202039', '202040', '202041', '202042', '202043', '202044', '202045', '202046', '202047', '202048', '202049', '202050', '202051', '202052', '202053', '202077', '202101', '202102', '202103', '202103.8', '202104', '202105', '202106', '202107', '202108', '202109', '202110', '202111', '202112', '202113', '202114', '202115', '202116', '202117', '202118', '202119', '202120', '202121', '202122', '202123', '202124', '202125', '202126', '202127', '202128', '202129', '202130', '202131', '202132', '202133', '202134', '202135', '202136', '202137', '202138', '202139', '202140', '202141', '202142', '202143', '202144', '202145', '202146', '202147', '202148', '202149', '202150', '202151', '202152', '202201', '202202', '202203', '202204', '202205', '202206', '202207', '202208', '202209', '202210', '202211', '202212', '202213', '202214', '202215', '202216', '202217', '202218', '202219', '202220', '202221', '202222', '202223', '202224', '202225', '202226', '202227', '202228', '202229', '202230', '202231', '202232', '202233', '202234', '202235', '202236', '202237', '202238', '202239', '202240', '202241', '202242', '202243', '202244', '202245', '202246', '202247', '202248', '202249', '202250', '202251', '202252']\n"
     ]
    },
    {
     "ename": "ValueError",
     "evalue": "zero-size array to reduction operation maximum which has no identity",
     "output_type": "error",
     "traceback": [
      "\u001B[1;31m---------------------------------------------------------------------------\u001B[0m",
      "\u001B[1;31mValueError\u001B[0m                                Traceback (most recent call last)",
      "Cell \u001B[1;32mIn[18], line 73\u001B[0m\n\u001B[0;32m     70\u001B[0m city_lvl \u001B[38;5;241m=\u001B[39m city[\u001B[38;5;124m'\u001B[39m\u001B[38;5;124mALT\u001B[39m\u001B[38;5;124m'\u001B[39m]\n\u001B[0;32m     72\u001B[0m \u001B[38;5;66;03m# Predict precipitation for the current city\u001B[39;00m\n\u001B[1;32m---> 73\u001B[0m city_predictions \u001B[38;5;241m=\u001B[39m \u001B[43mpredict_precipitation_regression\u001B[49m\u001B[43m(\u001B[49m\u001B[43mcity_lat\u001B[49m\u001B[43m,\u001B[49m\u001B[43m \u001B[49m\u001B[43mcity_lon\u001B[49m\u001B[43m,\u001B[49m\u001B[43m \u001B[49m\u001B[43mcity_lvl\u001B[49m\u001B[43m)\u001B[49m\n\u001B[0;32m     75\u001B[0m \u001B[38;5;66;03m# Add city name to each prediction\u001B[39;00m\n\u001B[0;32m     76\u001B[0m \u001B[38;5;28;01mfor\u001B[39;00m prediction \u001B[38;5;129;01min\u001B[39;00m city_predictions:\n",
      "Cell \u001B[1;32mIn[18], line 39\u001B[0m, in \u001B[0;36mpredict_precipitation_regression\u001B[1;34m(city_lat, city_lon, city_lvl)\u001B[0m\n\u001B[0;32m     36\u001B[0m residuals_max \u001B[38;5;241m=\u001B[39m y_max \u001B[38;5;241m-\u001B[39m reg_max\u001B[38;5;241m.\u001B[39mpredict(X)\n\u001B[0;32m     38\u001B[0m \u001B[38;5;66;03m# Perform kriging on residuals\u001B[39;00m\n\u001B[1;32m---> 39\u001B[0m kriging_avg \u001B[38;5;241m=\u001B[39m \u001B[43mOrdinaryKriging\u001B[49m\u001B[43m(\u001B[49m\n\u001B[0;32m     40\u001B[0m \u001B[43m    \u001B[49m\u001B[43mweek_data\u001B[49m\u001B[43m[\u001B[49m\u001B[38;5;124;43m'\u001B[39;49m\u001B[38;5;124;43mlat\u001B[39;49m\u001B[38;5;124;43m'\u001B[39;49m\u001B[43m]\u001B[49m\u001B[43m,\u001B[49m\u001B[43m \u001B[49m\u001B[43mweek_data\u001B[49m\u001B[43m[\u001B[49m\u001B[38;5;124;43m'\u001B[39;49m\u001B[38;5;124;43mlon\u001B[39;49m\u001B[38;5;124;43m'\u001B[39;49m\u001B[43m]\u001B[49m\u001B[43m,\u001B[49m\u001B[43m \u001B[49m\u001B[43mresiduals_avg\u001B[49m\u001B[43m,\u001B[49m\n\u001B[0;32m     41\u001B[0m \u001B[43m    \u001B[49m\u001B[43mvariogram_model\u001B[49m\u001B[38;5;241;43m=\u001B[39;49m\u001B[38;5;124;43m'\u001B[39;49m\u001B[38;5;124;43mlinear\u001B[39;49m\u001B[38;5;124;43m'\u001B[39;49m\u001B[43m,\u001B[49m\u001B[43m \u001B[49m\u001B[43mverbose\u001B[49m\u001B[38;5;241;43m=\u001B[39;49m\u001B[38;5;28;43;01mFalse\u001B[39;49;00m\u001B[43m,\u001B[49m\u001B[43m \u001B[49m\u001B[43menable_plotting\u001B[49m\u001B[38;5;241;43m=\u001B[39;49m\u001B[38;5;28;43;01mFalse\u001B[39;49;00m\n\u001B[0;32m     42\u001B[0m \u001B[43m\u001B[49m\u001B[43m)\u001B[49m\n\u001B[0;32m     43\u001B[0m kriging_max \u001B[38;5;241m=\u001B[39m OrdinaryKriging(\n\u001B[0;32m     44\u001B[0m     week_data[\u001B[38;5;124m'\u001B[39m\u001B[38;5;124mlat\u001B[39m\u001B[38;5;124m'\u001B[39m], week_data[\u001B[38;5;124m'\u001B[39m\u001B[38;5;124mlon\u001B[39m\u001B[38;5;124m'\u001B[39m], residuals_max,\n\u001B[0;32m     45\u001B[0m     variogram_model\u001B[38;5;241m=\u001B[39m\u001B[38;5;124m'\u001B[39m\u001B[38;5;124mlinear\u001B[39m\u001B[38;5;124m'\u001B[39m, verbose\u001B[38;5;241m=\u001B[39m\u001B[38;5;28;01mFalse\u001B[39;00m, enable_plotting\u001B[38;5;241m=\u001B[39m\u001B[38;5;28;01mFalse\u001B[39;00m\n\u001B[0;32m     46\u001B[0m )\n\u001B[0;32m     48\u001B[0m \u001B[38;5;66;03m# Predict residuals for the city\u001B[39;00m\n",
      "File \u001B[1;32m~\\PycharmProjects\\FYP-dc\\.venv\\Lib\\site-packages\\pykrige\\ok.py:321\u001B[0m, in \u001B[0;36mOrdinaryKriging.__init__\u001B[1;34m(self, x, y, z, variogram_model, variogram_parameters, variogram_function, nlags, weight, anisotropy_scaling, anisotropy_angle, verbose, enable_plotting, enable_statistics, coordinates_type, exact_values, pseudo_inv, pseudo_inv_type)\u001B[0m\n\u001B[0;32m    312\u001B[0m     \u001B[38;5;28mprint\u001B[39m(\u001B[38;5;124m\"\u001B[39m\u001B[38;5;124mInitializing variogram model...\u001B[39m\u001B[38;5;124m\"\u001B[39m)\n\u001B[0;32m    314\u001B[0m vp_temp \u001B[38;5;241m=\u001B[39m _make_variogram_parameter_list(\n\u001B[0;32m    315\u001B[0m     \u001B[38;5;28mself\u001B[39m\u001B[38;5;241m.\u001B[39mvariogram_model, variogram_parameters\n\u001B[0;32m    316\u001B[0m )\n\u001B[0;32m    317\u001B[0m (\n\u001B[0;32m    318\u001B[0m     \u001B[38;5;28mself\u001B[39m\u001B[38;5;241m.\u001B[39mlags,\n\u001B[0;32m    319\u001B[0m     \u001B[38;5;28mself\u001B[39m\u001B[38;5;241m.\u001B[39msemivariance,\n\u001B[0;32m    320\u001B[0m     \u001B[38;5;28mself\u001B[39m\u001B[38;5;241m.\u001B[39mvariogram_model_parameters,\n\u001B[1;32m--> 321\u001B[0m ) \u001B[38;5;241m=\u001B[39m \u001B[43m_initialize_variogram_model\u001B[49m\u001B[43m(\u001B[49m\n\u001B[0;32m    322\u001B[0m \u001B[43m    \u001B[49m\u001B[43mnp\u001B[49m\u001B[38;5;241;43m.\u001B[39;49m\u001B[43mvstack\u001B[49m\u001B[43m(\u001B[49m\u001B[43m(\u001B[49m\u001B[38;5;28;43mself\u001B[39;49m\u001B[38;5;241;43m.\u001B[39;49m\u001B[43mX_ADJUSTED\u001B[49m\u001B[43m,\u001B[49m\u001B[43m \u001B[49m\u001B[38;5;28;43mself\u001B[39;49m\u001B[38;5;241;43m.\u001B[39;49m\u001B[43mY_ADJUSTED\u001B[49m\u001B[43m)\u001B[49m\u001B[43m)\u001B[49m\u001B[38;5;241;43m.\u001B[39;49m\u001B[43mT\u001B[49m\u001B[43m,\u001B[49m\n\u001B[0;32m    323\u001B[0m \u001B[43m    \u001B[49m\u001B[38;5;28;43mself\u001B[39;49m\u001B[38;5;241;43m.\u001B[39;49m\u001B[43mZ\u001B[49m\u001B[43m,\u001B[49m\n\u001B[0;32m    324\u001B[0m \u001B[43m    \u001B[49m\u001B[38;5;28;43mself\u001B[39;49m\u001B[38;5;241;43m.\u001B[39;49m\u001B[43mvariogram_model\u001B[49m\u001B[43m,\u001B[49m\n\u001B[0;32m    325\u001B[0m \u001B[43m    \u001B[49m\u001B[43mvp_temp\u001B[49m\u001B[43m,\u001B[49m\n\u001B[0;32m    326\u001B[0m \u001B[43m    \u001B[49m\u001B[38;5;28;43mself\u001B[39;49m\u001B[38;5;241;43m.\u001B[39;49m\u001B[43mvariogram_function\u001B[49m\u001B[43m,\u001B[49m\n\u001B[0;32m    327\u001B[0m \u001B[43m    \u001B[49m\u001B[43mnlags\u001B[49m\u001B[43m,\u001B[49m\n\u001B[0;32m    328\u001B[0m \u001B[43m    \u001B[49m\u001B[43mweight\u001B[49m\u001B[43m,\u001B[49m\n\u001B[0;32m    329\u001B[0m \u001B[43m    \u001B[49m\u001B[38;5;28;43mself\u001B[39;49m\u001B[38;5;241;43m.\u001B[39;49m\u001B[43mcoordinates_type\u001B[49m\u001B[43m,\u001B[49m\n\u001B[0;32m    330\u001B[0m \u001B[43m\u001B[49m\u001B[43m)\u001B[49m\n\u001B[0;32m    332\u001B[0m \u001B[38;5;28;01mif\u001B[39;00m \u001B[38;5;28mself\u001B[39m\u001B[38;5;241m.\u001B[39mverbose:\n\u001B[0;32m    333\u001B[0m     \u001B[38;5;28mprint\u001B[39m(\u001B[38;5;124m\"\u001B[39m\u001B[38;5;124mCoordinates type: \u001B[39m\u001B[38;5;124m'\u001B[39m\u001B[38;5;132;01m%s\u001B[39;00m\u001B[38;5;124m'\u001B[39m\u001B[38;5;124m\"\u001B[39m \u001B[38;5;241m%\u001B[39m \u001B[38;5;28mself\u001B[39m\u001B[38;5;241m.\u001B[39mcoordinates_type, \u001B[38;5;124m\"\u001B[39m\u001B[38;5;130;01m\\n\u001B[39;00m\u001B[38;5;124m\"\u001B[39m)\n",
      "File \u001B[1;32m~\\PycharmProjects\\FYP-dc\\.venv\\Lib\\site-packages\\pykrige\\core.py:465\u001B[0m, in \u001B[0;36m_initialize_variogram_model\u001B[1;34m(X, y, variogram_model, variogram_model_parameters, variogram_function, nlags, weight, coordinates_type)\u001B[0m\n\u001B[0;32m    455\u001B[0m     \u001B[38;5;28;01mraise\u001B[39;00m \u001B[38;5;167;01mValueError\u001B[39;00m(\n\u001B[0;32m    456\u001B[0m         \u001B[38;5;124m\"\u001B[39m\u001B[38;5;124mSpecified coordinate type \u001B[39m\u001B[38;5;124m'\u001B[39m\u001B[38;5;132;01m%s\u001B[39;00m\u001B[38;5;124m'\u001B[39m\u001B[38;5;124m is not supported.\u001B[39m\u001B[38;5;124m\"\u001B[39m \u001B[38;5;241m%\u001B[39m coordinates_type\n\u001B[0;32m    457\u001B[0m     )\n\u001B[0;32m    459\u001B[0m \u001B[38;5;66;03m# Equal-sized bins are now implemented. The upper limit on the bins\u001B[39;00m\n\u001B[0;32m    460\u001B[0m \u001B[38;5;66;03m# is appended to the list (instead of calculated as part of the\u001B[39;00m\n\u001B[0;32m    461\u001B[0m \u001B[38;5;66;03m# list comprehension) to avoid any numerical oddities\u001B[39;00m\n\u001B[0;32m    462\u001B[0m \u001B[38;5;66;03m# (specifically, say, ending up as 0.99999999999999 instead of 1.0).\u001B[39;00m\n\u001B[0;32m    463\u001B[0m \u001B[38;5;66;03m# Appending dmax + 0.001 ensures that the largest distance value\u001B[39;00m\n\u001B[0;32m    464\u001B[0m \u001B[38;5;66;03m# is included in the semivariogram calculation.\u001B[39;00m\n\u001B[1;32m--> 465\u001B[0m dmax \u001B[38;5;241m=\u001B[39m \u001B[43mnp\u001B[49m\u001B[38;5;241;43m.\u001B[39;49m\u001B[43mamax\u001B[49m\u001B[43m(\u001B[49m\u001B[43md\u001B[49m\u001B[43m)\u001B[49m\n\u001B[0;32m    466\u001B[0m dmin \u001B[38;5;241m=\u001B[39m np\u001B[38;5;241m.\u001B[39mamin(d)\n\u001B[0;32m    467\u001B[0m dd \u001B[38;5;241m=\u001B[39m (dmax \u001B[38;5;241m-\u001B[39m dmin) \u001B[38;5;241m/\u001B[39m nlags\n",
      "File \u001B[1;32m~\\PycharmProjects\\FYP-dc\\.venv\\Lib\\site-packages\\numpy\\_core\\fromnumeric.py:3216\u001B[0m, in \u001B[0;36mamax\u001B[1;34m(a, axis, out, keepdims, initial, where)\u001B[0m\n\u001B[0;32m   3203\u001B[0m \u001B[38;5;129m@array_function_dispatch\u001B[39m(_max_dispatcher)\n\u001B[0;32m   3204\u001B[0m \u001B[38;5;28;01mdef\u001B[39;00m \u001B[38;5;21mamax\u001B[39m(a, axis\u001B[38;5;241m=\u001B[39m\u001B[38;5;28;01mNone\u001B[39;00m, out\u001B[38;5;241m=\u001B[39m\u001B[38;5;28;01mNone\u001B[39;00m, keepdims\u001B[38;5;241m=\u001B[39mnp\u001B[38;5;241m.\u001B[39m_NoValue, initial\u001B[38;5;241m=\u001B[39mnp\u001B[38;5;241m.\u001B[39m_NoValue,\n\u001B[0;32m   3205\u001B[0m          where\u001B[38;5;241m=\u001B[39mnp\u001B[38;5;241m.\u001B[39m_NoValue):\n\u001B[0;32m   3206\u001B[0m \u001B[38;5;250m    \u001B[39m\u001B[38;5;124;03m\"\"\"\u001B[39;00m\n\u001B[0;32m   3207\u001B[0m \u001B[38;5;124;03m    Return the maximum of an array or maximum along an axis.\u001B[39;00m\n\u001B[0;32m   3208\u001B[0m \n\u001B[1;32m   (...)\u001B[0m\n\u001B[0;32m   3214\u001B[0m \u001B[38;5;124;03m    ndarray.max : equivalent method\u001B[39;00m\n\u001B[0;32m   3215\u001B[0m \u001B[38;5;124;03m    \"\"\"\u001B[39;00m\n\u001B[1;32m-> 3216\u001B[0m     \u001B[38;5;28;01mreturn\u001B[39;00m \u001B[43m_wrapreduction\u001B[49m\u001B[43m(\u001B[49m\u001B[43ma\u001B[49m\u001B[43m,\u001B[49m\u001B[43m \u001B[49m\u001B[43mnp\u001B[49m\u001B[38;5;241;43m.\u001B[39;49m\u001B[43mmaximum\u001B[49m\u001B[43m,\u001B[49m\u001B[43m \u001B[49m\u001B[38;5;124;43m'\u001B[39;49m\u001B[38;5;124;43mmax\u001B[39;49m\u001B[38;5;124;43m'\u001B[39;49m\u001B[43m,\u001B[49m\u001B[43m \u001B[49m\u001B[43maxis\u001B[49m\u001B[43m,\u001B[49m\u001B[43m \u001B[49m\u001B[38;5;28;43;01mNone\u001B[39;49;00m\u001B[43m,\u001B[49m\u001B[43m \u001B[49m\u001B[43mout\u001B[49m\u001B[43m,\u001B[49m\n\u001B[0;32m   3217\u001B[0m \u001B[43m                          \u001B[49m\u001B[43mkeepdims\u001B[49m\u001B[38;5;241;43m=\u001B[39;49m\u001B[43mkeepdims\u001B[49m\u001B[43m,\u001B[49m\u001B[43m \u001B[49m\u001B[43minitial\u001B[49m\u001B[38;5;241;43m=\u001B[39;49m\u001B[43minitial\u001B[49m\u001B[43m,\u001B[49m\u001B[43m \u001B[49m\u001B[43mwhere\u001B[49m\u001B[38;5;241;43m=\u001B[39;49m\u001B[43mwhere\u001B[49m\u001B[43m)\u001B[49m\n",
      "File \u001B[1;32m~\\PycharmProjects\\FYP-dc\\.venv\\Lib\\site-packages\\numpy\\_core\\fromnumeric.py:86\u001B[0m, in \u001B[0;36m_wrapreduction\u001B[1;34m(obj, ufunc, method, axis, dtype, out, **kwargs)\u001B[0m\n\u001B[0;32m     83\u001B[0m         \u001B[38;5;28;01melse\u001B[39;00m:\n\u001B[0;32m     84\u001B[0m             \u001B[38;5;28;01mreturn\u001B[39;00m reduction(axis\u001B[38;5;241m=\u001B[39maxis, out\u001B[38;5;241m=\u001B[39mout, \u001B[38;5;241m*\u001B[39m\u001B[38;5;241m*\u001B[39mpasskwargs)\n\u001B[1;32m---> 86\u001B[0m \u001B[38;5;28;01mreturn\u001B[39;00m \u001B[43mufunc\u001B[49m\u001B[38;5;241;43m.\u001B[39;49m\u001B[43mreduce\u001B[49m\u001B[43m(\u001B[49m\u001B[43mobj\u001B[49m\u001B[43m,\u001B[49m\u001B[43m \u001B[49m\u001B[43maxis\u001B[49m\u001B[43m,\u001B[49m\u001B[43m \u001B[49m\u001B[43mdtype\u001B[49m\u001B[43m,\u001B[49m\u001B[43m \u001B[49m\u001B[43mout\u001B[49m\u001B[43m,\u001B[49m\u001B[43m \u001B[49m\u001B[38;5;241;43m*\u001B[39;49m\u001B[38;5;241;43m*\u001B[39;49m\u001B[43mpasskwargs\u001B[49m\u001B[43m)\u001B[49m\n",
      "\u001B[1;31mValueError\u001B[0m: zero-size array to reduction operation maximum which has no identity"
     ]
    }
   ],
   "execution_count": 18
  },
  {
   "metadata": {},
   "cell_type": "markdown",
   "source": "Normal way without altitude",
   "id": "362206e28bee79af"
  },
  {
   "metadata": {
    "ExecuteTime": {
     "end_time": "2024-12-23T10:12:40.601397Z",
     "start_time": "2024-12-23T10:12:38.787213Z"
    }
   },
   "cell_type": "code",
   "source": [
    "import pandas as pd\n",
    "import numpy as np\n",
    "from pykrige.ok import OrdinaryKriging\n",
    "\n",
    "# Load the sorted data\n",
    "file_path = \"final/sorted_precipitation_data_with_stations.csv\"\n",
    "data = pd.read_csv(file_path)\n",
    "\n",
    "# Function to perform kriging for a given city location and predict precipitation\n",
    "def predict_precipitation_ordinary(city_lat, city_lon):\n",
    "    # Get unique weeks from the data\n",
    "    unique_weeks = data['week'].unique()\n",
    "\n",
    "    # Store predictions for each week\n",
    "    predictions = []\n",
    "\n",
    "    # Iterate through each week\n",
    "    for week in unique_weeks:\n",
    "        # Filter data for the current week\n",
    "        week_data = data[data['week'] == week]\n",
    "\n",
    "        # Prepare input arrays for kriging\n",
    "        lats = week_data['lat'].values\n",
    "        lons = week_data['lon'].values\n",
    "\n",
    "        avg_precip = week_data['precipitation_avg'].values\n",
    "        max_precip = week_data['precipitation_max'].values\n",
    "\n",
    "        # Ordinary Kriging for precipitation_avg\n",
    "        ok_avg = OrdinaryKriging(\n",
    "            lats, lons, avg_precip,\n",
    "            variogram_model='linear',\n",
    "            verbose=False,\n",
    "            enable_plotting=False\n",
    "        )\n",
    "        predicted_avg, _ = ok_avg.execute('points', float(city_lat), float(city_lon))\n",
    "\n",
    "        # Ordinary Kriging for precipitation_max\n",
    "        ok_max = OrdinaryKriging(\n",
    "            lats, lons, max_precip,\n",
    "            variogram_model='linear',\n",
    "            verbose=False,\n",
    "            enable_plotting=False\n",
    "        )\n",
    "        predicted_max, _ = ok_max.execute('points', float(city_lat), float(city_lon))\n",
    "\n",
    "        # Append predictions for this week\n",
    "        predictions.append({\n",
    "            'week': week,\n",
    "            'precipitation_avg': predicted_avg[0],\n",
    "            'precipitation_max': predicted_max[0]\n",
    "        })\n",
    "\n",
    "    return predictions  # Return a list of dictionaries, not a string\n",
    "\n",
    "# Example cities data (load your actual cities CSV file)\n",
    "cities_data = pd.read_csv(\"../kriging/data/filtered_RJ_lat_long_data.csv\")\n",
    "\n",
    "results = []\n",
    "for _, city in cities_data.iterrows():\n",
    "    city_name = city['CITY']\n",
    "    city_lat = city['LAT']\n",
    "    city_lon = city['LONG']\n",
    "    city_lvl = city['ALT']\n",
    "\n",
    "    # Predict precipitation for the current city\n",
    "    city_predictions = predict_precipitation_ordinary(city_lat, city_lon)\n",
    "\n",
    "    for prediction in city_predictions:\n",
    "        prediction['CITY'] = city_name  # Add the city name to the prediction\n",
    "        results.append(prediction)\n",
    "\n",
    "# Convert results to a DataFrame and save as a CSV file\n",
    "output_df = pd.DataFrame(results)\n",
    "output_df.to_csv(\"final/predicted_precipitation_by_week_ordinary.csv\", index=False)\n",
    "\n",
    "print(\"Predictions saved to '../kriging/data/predicted_precipitation_by_week_ordinary.csv'\")\n"
   ],
   "id": "115728917b0cd40a",
   "outputs": [
    {
     "ename": "ValueError",
     "evalue": "zero-size array to reduction operation maximum which has no identity",
     "output_type": "error",
     "traceback": [
      "\u001B[1;31m---------------------------------------------------------------------------\u001B[0m",
      "\u001B[1;31mValueError\u001B[0m                                Traceback (most recent call last)",
      "Cell \u001B[1;32mIn[12], line 67\u001B[0m\n\u001B[0;32m     64\u001B[0m city_lvl \u001B[38;5;241m=\u001B[39m city[\u001B[38;5;124m'\u001B[39m\u001B[38;5;124mALT\u001B[39m\u001B[38;5;124m'\u001B[39m]\n\u001B[0;32m     66\u001B[0m \u001B[38;5;66;03m# Predict precipitation for the current city\u001B[39;00m\n\u001B[1;32m---> 67\u001B[0m city_predictions \u001B[38;5;241m=\u001B[39m \u001B[43mpredict_precipitation_ordinary\u001B[49m\u001B[43m(\u001B[49m\u001B[43mcity_lat\u001B[49m\u001B[43m,\u001B[49m\u001B[43m \u001B[49m\u001B[43mcity_lon\u001B[49m\u001B[43m)\u001B[49m\n\u001B[0;32m     69\u001B[0m \u001B[38;5;28;01mfor\u001B[39;00m prediction \u001B[38;5;129;01min\u001B[39;00m city_predictions:\n\u001B[0;32m     70\u001B[0m     prediction[\u001B[38;5;124m'\u001B[39m\u001B[38;5;124mCITY\u001B[39m\u001B[38;5;124m'\u001B[39m] \u001B[38;5;241m=\u001B[39m city_name  \u001B[38;5;66;03m# Add the city name to the prediction\u001B[39;00m\n",
      "Cell \u001B[1;32mIn[12], line 30\u001B[0m, in \u001B[0;36mpredict_precipitation_ordinary\u001B[1;34m(city_lat, city_lon)\u001B[0m\n\u001B[0;32m     27\u001B[0m max_precip \u001B[38;5;241m=\u001B[39m week_data[\u001B[38;5;124m'\u001B[39m\u001B[38;5;124mprecipitation_max\u001B[39m\u001B[38;5;124m'\u001B[39m]\u001B[38;5;241m.\u001B[39mvalues\n\u001B[0;32m     29\u001B[0m \u001B[38;5;66;03m# Ordinary Kriging for precipitation_avg\u001B[39;00m\n\u001B[1;32m---> 30\u001B[0m ok_avg \u001B[38;5;241m=\u001B[39m \u001B[43mOrdinaryKriging\u001B[49m\u001B[43m(\u001B[49m\n\u001B[0;32m     31\u001B[0m \u001B[43m    \u001B[49m\u001B[43mlats\u001B[49m\u001B[43m,\u001B[49m\u001B[43m \u001B[49m\u001B[43mlons\u001B[49m\u001B[43m,\u001B[49m\u001B[43m \u001B[49m\u001B[43mavg_precip\u001B[49m\u001B[43m,\u001B[49m\n\u001B[0;32m     32\u001B[0m \u001B[43m    \u001B[49m\u001B[43mvariogram_model\u001B[49m\u001B[38;5;241;43m=\u001B[39;49m\u001B[38;5;124;43m'\u001B[39;49m\u001B[38;5;124;43mlinear\u001B[39;49m\u001B[38;5;124;43m'\u001B[39;49m\u001B[43m,\u001B[49m\n\u001B[0;32m     33\u001B[0m \u001B[43m    \u001B[49m\u001B[43mverbose\u001B[49m\u001B[38;5;241;43m=\u001B[39;49m\u001B[38;5;28;43;01mFalse\u001B[39;49;00m\u001B[43m,\u001B[49m\n\u001B[0;32m     34\u001B[0m \u001B[43m    \u001B[49m\u001B[43menable_plotting\u001B[49m\u001B[38;5;241;43m=\u001B[39;49m\u001B[38;5;28;43;01mFalse\u001B[39;49;00m\n\u001B[0;32m     35\u001B[0m \u001B[43m\u001B[49m\u001B[43m)\u001B[49m\n\u001B[0;32m     36\u001B[0m predicted_avg, _ \u001B[38;5;241m=\u001B[39m ok_avg\u001B[38;5;241m.\u001B[39mexecute(\u001B[38;5;124m'\u001B[39m\u001B[38;5;124mpoints\u001B[39m\u001B[38;5;124m'\u001B[39m, \u001B[38;5;28mfloat\u001B[39m(city_lat), \u001B[38;5;28mfloat\u001B[39m(city_lon))\n\u001B[0;32m     38\u001B[0m \u001B[38;5;66;03m# Ordinary Kriging for precipitation_max\u001B[39;00m\n",
      "File \u001B[1;32m~\\PycharmProjects\\FYP-dc\\.venv\\Lib\\site-packages\\pykrige\\ok.py:321\u001B[0m, in \u001B[0;36mOrdinaryKriging.__init__\u001B[1;34m(self, x, y, z, variogram_model, variogram_parameters, variogram_function, nlags, weight, anisotropy_scaling, anisotropy_angle, verbose, enable_plotting, enable_statistics, coordinates_type, exact_values, pseudo_inv, pseudo_inv_type)\u001B[0m\n\u001B[0;32m    312\u001B[0m     \u001B[38;5;28mprint\u001B[39m(\u001B[38;5;124m\"\u001B[39m\u001B[38;5;124mInitializing variogram model...\u001B[39m\u001B[38;5;124m\"\u001B[39m)\n\u001B[0;32m    314\u001B[0m vp_temp \u001B[38;5;241m=\u001B[39m _make_variogram_parameter_list(\n\u001B[0;32m    315\u001B[0m     \u001B[38;5;28mself\u001B[39m\u001B[38;5;241m.\u001B[39mvariogram_model, variogram_parameters\n\u001B[0;32m    316\u001B[0m )\n\u001B[0;32m    317\u001B[0m (\n\u001B[0;32m    318\u001B[0m     \u001B[38;5;28mself\u001B[39m\u001B[38;5;241m.\u001B[39mlags,\n\u001B[0;32m    319\u001B[0m     \u001B[38;5;28mself\u001B[39m\u001B[38;5;241m.\u001B[39msemivariance,\n\u001B[0;32m    320\u001B[0m     \u001B[38;5;28mself\u001B[39m\u001B[38;5;241m.\u001B[39mvariogram_model_parameters,\n\u001B[1;32m--> 321\u001B[0m ) \u001B[38;5;241m=\u001B[39m \u001B[43m_initialize_variogram_model\u001B[49m\u001B[43m(\u001B[49m\n\u001B[0;32m    322\u001B[0m \u001B[43m    \u001B[49m\u001B[43mnp\u001B[49m\u001B[38;5;241;43m.\u001B[39;49m\u001B[43mvstack\u001B[49m\u001B[43m(\u001B[49m\u001B[43m(\u001B[49m\u001B[38;5;28;43mself\u001B[39;49m\u001B[38;5;241;43m.\u001B[39;49m\u001B[43mX_ADJUSTED\u001B[49m\u001B[43m,\u001B[49m\u001B[43m \u001B[49m\u001B[38;5;28;43mself\u001B[39;49m\u001B[38;5;241;43m.\u001B[39;49m\u001B[43mY_ADJUSTED\u001B[49m\u001B[43m)\u001B[49m\u001B[43m)\u001B[49m\u001B[38;5;241;43m.\u001B[39;49m\u001B[43mT\u001B[49m\u001B[43m,\u001B[49m\n\u001B[0;32m    323\u001B[0m \u001B[43m    \u001B[49m\u001B[38;5;28;43mself\u001B[39;49m\u001B[38;5;241;43m.\u001B[39;49m\u001B[43mZ\u001B[49m\u001B[43m,\u001B[49m\n\u001B[0;32m    324\u001B[0m \u001B[43m    \u001B[49m\u001B[38;5;28;43mself\u001B[39;49m\u001B[38;5;241;43m.\u001B[39;49m\u001B[43mvariogram_model\u001B[49m\u001B[43m,\u001B[49m\n\u001B[0;32m    325\u001B[0m \u001B[43m    \u001B[49m\u001B[43mvp_temp\u001B[49m\u001B[43m,\u001B[49m\n\u001B[0;32m    326\u001B[0m \u001B[43m    \u001B[49m\u001B[38;5;28;43mself\u001B[39;49m\u001B[38;5;241;43m.\u001B[39;49m\u001B[43mvariogram_function\u001B[49m\u001B[43m,\u001B[49m\n\u001B[0;32m    327\u001B[0m \u001B[43m    \u001B[49m\u001B[43mnlags\u001B[49m\u001B[43m,\u001B[49m\n\u001B[0;32m    328\u001B[0m \u001B[43m    \u001B[49m\u001B[43mweight\u001B[49m\u001B[43m,\u001B[49m\n\u001B[0;32m    329\u001B[0m \u001B[43m    \u001B[49m\u001B[38;5;28;43mself\u001B[39;49m\u001B[38;5;241;43m.\u001B[39;49m\u001B[43mcoordinates_type\u001B[49m\u001B[43m,\u001B[49m\n\u001B[0;32m    330\u001B[0m \u001B[43m\u001B[49m\u001B[43m)\u001B[49m\n\u001B[0;32m    332\u001B[0m \u001B[38;5;28;01mif\u001B[39;00m \u001B[38;5;28mself\u001B[39m\u001B[38;5;241m.\u001B[39mverbose:\n\u001B[0;32m    333\u001B[0m     \u001B[38;5;28mprint\u001B[39m(\u001B[38;5;124m\"\u001B[39m\u001B[38;5;124mCoordinates type: \u001B[39m\u001B[38;5;124m'\u001B[39m\u001B[38;5;132;01m%s\u001B[39;00m\u001B[38;5;124m'\u001B[39m\u001B[38;5;124m\"\u001B[39m \u001B[38;5;241m%\u001B[39m \u001B[38;5;28mself\u001B[39m\u001B[38;5;241m.\u001B[39mcoordinates_type, \u001B[38;5;124m\"\u001B[39m\u001B[38;5;130;01m\\n\u001B[39;00m\u001B[38;5;124m\"\u001B[39m)\n",
      "File \u001B[1;32m~\\PycharmProjects\\FYP-dc\\.venv\\Lib\\site-packages\\pykrige\\core.py:465\u001B[0m, in \u001B[0;36m_initialize_variogram_model\u001B[1;34m(X, y, variogram_model, variogram_model_parameters, variogram_function, nlags, weight, coordinates_type)\u001B[0m\n\u001B[0;32m    455\u001B[0m     \u001B[38;5;28;01mraise\u001B[39;00m \u001B[38;5;167;01mValueError\u001B[39;00m(\n\u001B[0;32m    456\u001B[0m         \u001B[38;5;124m\"\u001B[39m\u001B[38;5;124mSpecified coordinate type \u001B[39m\u001B[38;5;124m'\u001B[39m\u001B[38;5;132;01m%s\u001B[39;00m\u001B[38;5;124m'\u001B[39m\u001B[38;5;124m is not supported.\u001B[39m\u001B[38;5;124m\"\u001B[39m \u001B[38;5;241m%\u001B[39m coordinates_type\n\u001B[0;32m    457\u001B[0m     )\n\u001B[0;32m    459\u001B[0m \u001B[38;5;66;03m# Equal-sized bins are now implemented. The upper limit on the bins\u001B[39;00m\n\u001B[0;32m    460\u001B[0m \u001B[38;5;66;03m# is appended to the list (instead of calculated as part of the\u001B[39;00m\n\u001B[0;32m    461\u001B[0m \u001B[38;5;66;03m# list comprehension) to avoid any numerical oddities\u001B[39;00m\n\u001B[0;32m    462\u001B[0m \u001B[38;5;66;03m# (specifically, say, ending up as 0.99999999999999 instead of 1.0).\u001B[39;00m\n\u001B[0;32m    463\u001B[0m \u001B[38;5;66;03m# Appending dmax + 0.001 ensures that the largest distance value\u001B[39;00m\n\u001B[0;32m    464\u001B[0m \u001B[38;5;66;03m# is included in the semivariogram calculation.\u001B[39;00m\n\u001B[1;32m--> 465\u001B[0m dmax \u001B[38;5;241m=\u001B[39m \u001B[43mnp\u001B[49m\u001B[38;5;241;43m.\u001B[39;49m\u001B[43mamax\u001B[49m\u001B[43m(\u001B[49m\u001B[43md\u001B[49m\u001B[43m)\u001B[49m\n\u001B[0;32m    466\u001B[0m dmin \u001B[38;5;241m=\u001B[39m np\u001B[38;5;241m.\u001B[39mamin(d)\n\u001B[0;32m    467\u001B[0m dd \u001B[38;5;241m=\u001B[39m (dmax \u001B[38;5;241m-\u001B[39m dmin) \u001B[38;5;241m/\u001B[39m nlags\n",
      "File \u001B[1;32m~\\PycharmProjects\\FYP-dc\\.venv\\Lib\\site-packages\\numpy\\_core\\fromnumeric.py:3216\u001B[0m, in \u001B[0;36mamax\u001B[1;34m(a, axis, out, keepdims, initial, where)\u001B[0m\n\u001B[0;32m   3203\u001B[0m \u001B[38;5;129m@array_function_dispatch\u001B[39m(_max_dispatcher)\n\u001B[0;32m   3204\u001B[0m \u001B[38;5;28;01mdef\u001B[39;00m \u001B[38;5;21mamax\u001B[39m(a, axis\u001B[38;5;241m=\u001B[39m\u001B[38;5;28;01mNone\u001B[39;00m, out\u001B[38;5;241m=\u001B[39m\u001B[38;5;28;01mNone\u001B[39;00m, keepdims\u001B[38;5;241m=\u001B[39mnp\u001B[38;5;241m.\u001B[39m_NoValue, initial\u001B[38;5;241m=\u001B[39mnp\u001B[38;5;241m.\u001B[39m_NoValue,\n\u001B[0;32m   3205\u001B[0m          where\u001B[38;5;241m=\u001B[39mnp\u001B[38;5;241m.\u001B[39m_NoValue):\n\u001B[0;32m   3206\u001B[0m \u001B[38;5;250m    \u001B[39m\u001B[38;5;124;03m\"\"\"\u001B[39;00m\n\u001B[0;32m   3207\u001B[0m \u001B[38;5;124;03m    Return the maximum of an array or maximum along an axis.\u001B[39;00m\n\u001B[0;32m   3208\u001B[0m \n\u001B[1;32m   (...)\u001B[0m\n\u001B[0;32m   3214\u001B[0m \u001B[38;5;124;03m    ndarray.max : equivalent method\u001B[39;00m\n\u001B[0;32m   3215\u001B[0m \u001B[38;5;124;03m    \"\"\"\u001B[39;00m\n\u001B[1;32m-> 3216\u001B[0m     \u001B[38;5;28;01mreturn\u001B[39;00m \u001B[43m_wrapreduction\u001B[49m\u001B[43m(\u001B[49m\u001B[43ma\u001B[49m\u001B[43m,\u001B[49m\u001B[43m \u001B[49m\u001B[43mnp\u001B[49m\u001B[38;5;241;43m.\u001B[39;49m\u001B[43mmaximum\u001B[49m\u001B[43m,\u001B[49m\u001B[43m \u001B[49m\u001B[38;5;124;43m'\u001B[39;49m\u001B[38;5;124;43mmax\u001B[39;49m\u001B[38;5;124;43m'\u001B[39;49m\u001B[43m,\u001B[49m\u001B[43m \u001B[49m\u001B[43maxis\u001B[49m\u001B[43m,\u001B[49m\u001B[43m \u001B[49m\u001B[38;5;28;43;01mNone\u001B[39;49;00m\u001B[43m,\u001B[49m\u001B[43m \u001B[49m\u001B[43mout\u001B[49m\u001B[43m,\u001B[49m\n\u001B[0;32m   3217\u001B[0m \u001B[43m                          \u001B[49m\u001B[43mkeepdims\u001B[49m\u001B[38;5;241;43m=\u001B[39;49m\u001B[43mkeepdims\u001B[49m\u001B[43m,\u001B[49m\u001B[43m \u001B[49m\u001B[43minitial\u001B[49m\u001B[38;5;241;43m=\u001B[39;49m\u001B[43minitial\u001B[49m\u001B[43m,\u001B[49m\u001B[43m \u001B[49m\u001B[43mwhere\u001B[49m\u001B[38;5;241;43m=\u001B[39;49m\u001B[43mwhere\u001B[49m\u001B[43m)\u001B[49m\n",
      "File \u001B[1;32m~\\PycharmProjects\\FYP-dc\\.venv\\Lib\\site-packages\\numpy\\_core\\fromnumeric.py:86\u001B[0m, in \u001B[0;36m_wrapreduction\u001B[1;34m(obj, ufunc, method, axis, dtype, out, **kwargs)\u001B[0m\n\u001B[0;32m     83\u001B[0m         \u001B[38;5;28;01melse\u001B[39;00m:\n\u001B[0;32m     84\u001B[0m             \u001B[38;5;28;01mreturn\u001B[39;00m reduction(axis\u001B[38;5;241m=\u001B[39maxis, out\u001B[38;5;241m=\u001B[39mout, \u001B[38;5;241m*\u001B[39m\u001B[38;5;241m*\u001B[39mpasskwargs)\n\u001B[1;32m---> 86\u001B[0m \u001B[38;5;28;01mreturn\u001B[39;00m \u001B[43mufunc\u001B[49m\u001B[38;5;241;43m.\u001B[39;49m\u001B[43mreduce\u001B[49m\u001B[43m(\u001B[49m\u001B[43mobj\u001B[49m\u001B[43m,\u001B[49m\u001B[43m \u001B[49m\u001B[43maxis\u001B[49m\u001B[43m,\u001B[49m\u001B[43m \u001B[49m\u001B[43mdtype\u001B[49m\u001B[43m,\u001B[49m\u001B[43m \u001B[49m\u001B[43mout\u001B[49m\u001B[43m,\u001B[49m\u001B[43m \u001B[49m\u001B[38;5;241;43m*\u001B[39;49m\u001B[38;5;241;43m*\u001B[39;49m\u001B[43mpasskwargs\u001B[49m\u001B[43m)\u001B[49m\n",
      "\u001B[1;31mValueError\u001B[0m: zero-size array to reduction operation maximum which has no identity"
     ]
    }
   ],
   "execution_count": 12
  },
  {
   "metadata": {
    "ExecuteTime": {
     "end_time": "2024-12-14T14:15:03.996922Z",
     "start_time": "2024-12-14T14:15:03.759648Z"
    }
   },
   "cell_type": "code",
   "source": [
    "# Read the CSV file\n",
    "df = pd.read_csv('../kriging/data/predicted_precipitation_by_week_ordinary.csv')\n",
    "\n",
    "# Replace negative precipitation values with 0\n",
    "df['precipitation_avg'] = df['precipitation_avg'].apply(lambda x: max(x, 0))\n",
    "df['precipitation_max'] = df['precipitation_max'].apply(lambda x: max(x, 0))\n",
    "\n",
    "# Round the precipitation values to 4 decimal places\n",
    "df['precipitation_avg'] = df['precipitation_avg'].round(4)\n",
    "df['precipitation_max'] = df['precipitation_max'].round(4)\n",
    "\n",
    "# Save the updated DataFrame back to the same CSV file\n",
    "df.to_csv('../kriging/data/predicted_precipitation_by_week_ordinary.csv', index=False)\n",
    "\n",
    "print(\"Negative precipitation values have been replaced with 0 and rounded to 4 decimal places.\")"
   ],
   "id": "d66edb0bd285b2aa",
   "outputs": [
    {
     "name": "stdout",
     "output_type": "stream",
     "text": [
      "Negative precipitation values have been replaced with 0 and rounded to 4 decimal places.\n"
     ]
    }
   ],
   "execution_count": 37
  },
  {
   "metadata": {
    "ExecuteTime": {
     "end_time": "2024-12-14T14:54:31.190293Z",
     "start_time": "2024-12-14T14:54:30.225285Z"
    }
   },
   "cell_type": "code",
   "source": [
    "# Read the CSV file\n",
    "df = pd.read_csv('../kriging/data/predicted_precipitation_by_week_regression.csv')\n",
    "\n",
    "# Replace negative precipitation values with 0\n",
    "df['predicted_precipitation_avg'] = df['predicted_precipitation_avg'].apply(lambda x: max(x, 0))\n",
    "df['predicted_precipitation_max'] = df['predicted_precipitation_max'].apply(lambda x: max(x, 0))\n",
    "\n",
    "# Round the precipitation values to 4 decimal places\n",
    "df['predicted_precipitation_avg'] = df['predicted_precipitation_avg'].round(4)\n",
    "df['predicted_precipitation_max'] = df['predicted_precipitation_max'].round(4)\n",
    "\n",
    "# Save the updated DataFrame back to the same CSV file\n",
    "df.to_csv('../kriging/data/predicted_precipitation_by_week_regression.csv', index=False)\n",
    "\n",
    "print(\"Negative precipitation values have been replaced with 0 and rounded to 4 decimal places.\")\n"
   ],
   "id": "482c238c28a6a66",
   "outputs": [
    {
     "name": "stdout",
     "output_type": "stream",
     "text": [
      "Negative precipitation values have been replaced with 0 and rounded to 4 decimal places.\n"
     ]
    }
   ],
   "execution_count": 41
  },
  {
   "metadata": {},
   "cell_type": "code",
   "outputs": [],
   "execution_count": null,
   "source": "",
   "id": "2a54a9ccf934e237"
  }
 ],
 "metadata": {
  "kernelspec": {
   "display_name": "Python 3",
   "language": "python",
   "name": "python3"
  },
  "language_info": {
   "codemirror_mode": {
    "name": "ipython",
    "version": 2
   },
   "file_extension": ".py",
   "mimetype": "text/x-python",
   "name": "python",
   "nbconvert_exporter": "python",
   "pygments_lexer": "ipython2",
   "version": "2.7.6"
  }
 },
 "nbformat": 4,
 "nbformat_minor": 5
}
