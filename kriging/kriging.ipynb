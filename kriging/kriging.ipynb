{
 "cells": [
  {
   "cell_type": "code",
   "id": "initial_id",
   "metadata": {
    "collapsed": true,
    "ExecuteTime": {
     "end_time": "2024-12-14T11:44:33.531620Z",
     "start_time": "2024-12-14T11:44:32.981529Z"
    }
   },
   "source": [
    "import pandas as pd\n",
    "\n",
    "# Define the relative file path\n",
    "file_path = \"../kriging/data/filtered_precipitation_data_2012_2022_by_station.csv\"\n",
    "\n",
    "# Load the CSV file\n",
    "data = pd.read_csv(file_path)\n",
    "\n",
    "# Sort the dataframe by 'week' column\n",
    "sorted_data = data.sort_values(by='week')\n",
    "\n",
    "# Display the first few rows of the sorted data\n",
    "print(sorted_data.head())\n",
    "\n",
    "# Save the sorted data back to a new CSV file\n",
    "sorted_file_path = \"../kriging/data/sorted_precipitation_data.csv\"\n",
    "sorted_data.to_csv(sorted_file_path, index=False)\n"
   ],
   "outputs": [
    {
     "name": "stdout",
     "output_type": "stream",
     "text": [
      "     ESTACAO        lat        lon     lvl    week  precipitation_avg  \\\n",
      "0       A601 -22.800000 -43.683333    33.0  201201          14.171429   \n",
      "2853    A607 -21.716667 -41.350000    25.0  201201           6.371429   \n",
      "2281    A606 -22.983333 -42.016667     4.0  201201           2.114286   \n",
      "1160    A603 -22.589722 -43.282222    33.0  201201                NaN   \n",
      "4548    A610 -22.481667 -43.291389  1777.0  201201           9.685714   \n",
      "\n",
      "      precipitation_max  \n",
      "0                  66.2  \n",
      "2853               25.0  \n",
      "2281                5.4  \n",
      "1160                NaN  \n",
      "4548               19.0  \n"
     ]
    }
   ],
   "execution_count": 16
  },
  {
   "metadata": {
    "ExecuteTime": {
     "end_time": "2024-12-14T08:36:21.363115Z",
     "start_time": "2024-12-14T08:36:18.533061Z"
    }
   },
   "cell_type": "code",
   "source": [
    "import pandas as pd\n",
    "import numpy as np\n",
    "from pykrige.ok import OrdinaryKriging\n",
    "\n",
    "# Load the sorted precipitation data\n",
    "data = pd.read_csv(\"../kriging/data/sorted_precipitation_data.csv\")\n",
    "\n",
    "# Function for kriging to predict precipitation for given city coordinates and altitude\n",
    "def predict_precipitation(city_lat, city_lon, city_lvl):\n",
    "    weeks = sorted(data['week'].unique())\n",
    "    predictions = []\n",
    "\n",
    "    for week in weeks:\n",
    "        # Filter data for the specific week\n",
    "        week_data = data[data['week'] == week]\n",
    "\n",
    "        # Extract known points and corresponding values\n",
    "        known_points = week_data[['lat', 'lon', 'lvl']].values\n",
    "        values_avg = week_data['precipitation_avg'].values\n",
    "        values_max = week_data['precipitation_max'].values\n",
    "\n",
    "        # Create kriging models for average and max precipitation\n",
    "        kriging_avg = OrdinaryKriging(\n",
    "            week_data['lat'], week_data['lon'], week_data['lvl'], values_avg,\n",
    "            variogram_model='linear', verbose=False, enable_plotting=False\n",
    "        )\n",
    "        kriging_max = OrdinaryKriging(\n",
    "            week_data['lat'], week_data['lon'], week_data['lvl'], values_max,\n",
    "            variogram_model='linear', verbose=False, enable_plotting=False\n",
    "        )\n",
    "\n",
    "        # Predict precipitation for the city\n",
    "        pred_avg, _ = kriging_avg.execute('points', city_lat, city_lon, city_lvl)\n",
    "        pred_max, _ = kriging_max.execute('points', city_lat, city_lon, city_lvl)\n",
    "\n",
    "        # Store the predictions for the week\n",
    "        predictions.append({\n",
    "            'week': week,\n",
    "            'predicted_precipitation_avg': pred_avg[0],\n",
    "            'predicted_precipitation_max': pred_max[0]\n",
    "        })\n",
    "\n",
    "    return pd.DataFrame(predictions)\n",
    "\n",
    "# Example usage:\n",
    "city_lat = 34.05  # Replace with your city's latitude\n",
    "city_lon = -118.25  # Replace with your city's longitude\n",
    "city_lvl = 89  # Replace with your city's altitude\n",
    "\n",
    "predicted_data = predict_precipitation(city_lat, city_lon, city_lvl)\n",
    "print(predicted_data)\n"
   ],
   "id": "7993702a0f459285",
   "outputs": [
    {
     "ename": "TypeError",
     "evalue": "OrdinaryKriging.__init__() got multiple values for argument 'variogram_model'",
     "output_type": "error",
     "traceback": [
      "\u001B[1;31m---------------------------------------------------------------------------\u001B[0m",
      "\u001B[1;31mTypeError\u001B[0m                                 Traceback (most recent call last)",
      "Cell \u001B[1;32mIn[5], line 50\u001B[0m\n\u001B[0;32m     47\u001B[0m city_lon \u001B[38;5;241m=\u001B[39m \u001B[38;5;241m-\u001B[39m\u001B[38;5;241m118.25\u001B[39m  \u001B[38;5;66;03m# Replace with your city's longitude\u001B[39;00m\n\u001B[0;32m     48\u001B[0m city_lvl \u001B[38;5;241m=\u001B[39m \u001B[38;5;241m89\u001B[39m  \u001B[38;5;66;03m# Replace with your city's altitude\u001B[39;00m\n\u001B[1;32m---> 50\u001B[0m predicted_data \u001B[38;5;241m=\u001B[39m \u001B[43mpredict_precipitation\u001B[49m\u001B[43m(\u001B[49m\u001B[43mcity_lat\u001B[49m\u001B[43m,\u001B[49m\u001B[43m \u001B[49m\u001B[43mcity_lon\u001B[49m\u001B[43m,\u001B[49m\u001B[43m \u001B[49m\u001B[43mcity_lvl\u001B[49m\u001B[43m)\u001B[49m\n\u001B[0;32m     51\u001B[0m \u001B[38;5;28mprint\u001B[39m(predicted_data)\n",
      "Cell \u001B[1;32mIn[5], line 23\u001B[0m, in \u001B[0;36mpredict_precipitation\u001B[1;34m(city_lat, city_lon, city_lvl)\u001B[0m\n\u001B[0;32m     20\u001B[0m values_max \u001B[38;5;241m=\u001B[39m week_data[\u001B[38;5;124m'\u001B[39m\u001B[38;5;124mprecipitation_max\u001B[39m\u001B[38;5;124m'\u001B[39m]\u001B[38;5;241m.\u001B[39mvalues\n\u001B[0;32m     22\u001B[0m \u001B[38;5;66;03m# Create kriging models for average and max precipitation\u001B[39;00m\n\u001B[1;32m---> 23\u001B[0m kriging_avg \u001B[38;5;241m=\u001B[39m \u001B[43mOrdinaryKriging\u001B[49m\u001B[43m(\u001B[49m\n\u001B[0;32m     24\u001B[0m \u001B[43m    \u001B[49m\u001B[43mweek_data\u001B[49m\u001B[43m[\u001B[49m\u001B[38;5;124;43m'\u001B[39;49m\u001B[38;5;124;43mlat\u001B[39;49m\u001B[38;5;124;43m'\u001B[39;49m\u001B[43m]\u001B[49m\u001B[43m,\u001B[49m\u001B[43m \u001B[49m\u001B[43mweek_data\u001B[49m\u001B[43m[\u001B[49m\u001B[38;5;124;43m'\u001B[39;49m\u001B[38;5;124;43mlon\u001B[39;49m\u001B[38;5;124;43m'\u001B[39;49m\u001B[43m]\u001B[49m\u001B[43m,\u001B[49m\u001B[43m \u001B[49m\u001B[43mweek_data\u001B[49m\u001B[43m[\u001B[49m\u001B[38;5;124;43m'\u001B[39;49m\u001B[38;5;124;43mlvl\u001B[39;49m\u001B[38;5;124;43m'\u001B[39;49m\u001B[43m]\u001B[49m\u001B[43m,\u001B[49m\u001B[43m \u001B[49m\u001B[43mvalues_avg\u001B[49m\u001B[43m,\u001B[49m\n\u001B[0;32m     25\u001B[0m \u001B[43m    \u001B[49m\u001B[43mvariogram_model\u001B[49m\u001B[38;5;241;43m=\u001B[39;49m\u001B[38;5;124;43m'\u001B[39;49m\u001B[38;5;124;43mlinear\u001B[39;49m\u001B[38;5;124;43m'\u001B[39;49m\u001B[43m,\u001B[49m\u001B[43m \u001B[49m\u001B[43mverbose\u001B[49m\u001B[38;5;241;43m=\u001B[39;49m\u001B[38;5;28;43;01mFalse\u001B[39;49;00m\u001B[43m,\u001B[49m\u001B[43m \u001B[49m\u001B[43menable_plotting\u001B[49m\u001B[38;5;241;43m=\u001B[39;49m\u001B[38;5;28;43;01mFalse\u001B[39;49;00m\n\u001B[0;32m     26\u001B[0m \u001B[43m\u001B[49m\u001B[43m)\u001B[49m\n\u001B[0;32m     27\u001B[0m kriging_max \u001B[38;5;241m=\u001B[39m OrdinaryKriging(\n\u001B[0;32m     28\u001B[0m     week_data[\u001B[38;5;124m'\u001B[39m\u001B[38;5;124mlat\u001B[39m\u001B[38;5;124m'\u001B[39m], week_data[\u001B[38;5;124m'\u001B[39m\u001B[38;5;124mlon\u001B[39m\u001B[38;5;124m'\u001B[39m], week_data[\u001B[38;5;124m'\u001B[39m\u001B[38;5;124mlvl\u001B[39m\u001B[38;5;124m'\u001B[39m], values_max,\n\u001B[0;32m     29\u001B[0m     variogram_model\u001B[38;5;241m=\u001B[39m\u001B[38;5;124m'\u001B[39m\u001B[38;5;124mlinear\u001B[39m\u001B[38;5;124m'\u001B[39m, verbose\u001B[38;5;241m=\u001B[39m\u001B[38;5;28;01mFalse\u001B[39;00m, enable_plotting\u001B[38;5;241m=\u001B[39m\u001B[38;5;28;01mFalse\u001B[39;00m\n\u001B[0;32m     30\u001B[0m )\n\u001B[0;32m     32\u001B[0m \u001B[38;5;66;03m# Predict precipitation for the city\u001B[39;00m\n",
      "\u001B[1;31mTypeError\u001B[0m: OrdinaryKriging.__init__() got multiple values for argument 'variogram_model'"
     ]
    }
   ],
   "execution_count": 5
  },
  {
   "metadata": {
    "ExecuteTime": {
     "end_time": "2024-12-14T11:45:35.593534Z",
     "start_time": "2024-12-14T11:45:35.162302Z"
    }
   },
   "cell_type": "code",
   "source": [
    "def remove_nan_precipitation(filepath):\n",
    "    data = pd.read_csv(filepath)\n",
    "    cleaned_data = data.dropna(subset=['precipitation_avg', 'precipitation_max'])\n",
    "    cleaned_data.to_csv(filepath, index=False)\n",
    "    \n",
    "remove_nan_precipitation(\"../kriging/data/sorted_precipitation_data.csv\")"
   ],
   "id": "bf6f94cc940df2b4",
   "outputs": [],
   "execution_count": 18
  },
  {
   "metadata": {
    "ExecuteTime": {
     "end_time": "2024-12-14T08:51:41.216489Z",
     "start_time": "2024-12-14T08:51:41.212123Z"
    }
   },
   "cell_type": "code",
   "source": "",
   "id": "99b844007c7bbed9",
   "outputs": [],
   "execution_count": 5
  },
  {
   "metadata": {
    "ExecuteTime": {
     "end_time": "2024-12-14T09:08:15.581240Z",
     "start_time": "2024-12-14T09:08:15.107343Z"
    }
   },
   "cell_type": "code",
   "source": [
    "from pykrige.uk import UniversalKriging\n",
    "import pandas as pd\n",
    "\n",
    "# Load the sorted precipitation data\n",
    "data = pd.read_csv(\"../kriging/data/sorted_precipitation_data.csv\")\n",
    "\n",
    "# Function to predict precipitation using Universal Kriging\n",
    "def predict_precipitation(city_lat, city_lon, city_lvl):\n",
    "    weeks = sorted(data['week'].unique())\n",
    "    predictions = []\n",
    "\n",
    "    for week in weeks:\n",
    "        # Filter data for the specific week\n",
    "        week_data = data[data['week'] == week]\n",
    "\n",
    "        # Universal Kriging for precipitation_avg\n",
    "        uk_avg = UniversalKriging(\n",
    "            week_data['lat'], week_data['lon'], week_data['precipitation_avg'],\n",
    "            variogram_model=\"linear\", drift_terms=[\"external_Z\"],\n",
    "            external_drift=week_data[\"lvl\"].values,\n",
    "            external_drift_x=week_data['lat'].values,  # Adding latitude as external drift coordinates\n",
    "            external_drift_y=week_data['lon'].values   # Adding longitude as external drift coordinates\n",
    "        )\n",
    "        pred_avg, _ = uk_avg.execute(\"points\", [city_lat], [city_lon], [city_lvl])\n",
    "\n",
    "        # Universal Kriging for precipitation_max\n",
    "        uk_max = UniversalKriging(\n",
    "            week_data['lat'], week_data['lon'], week_data['precipitation_max'],\n",
    "            variogram_model=\"linear\", drift_terms=[\"external_Z\"],\n",
    "            external_drift=week_data[\"lvl\"].values,\n",
    "            external_drift_x=week_data['lat'].values,  # Adding latitude as external drift coordinates\n",
    "            external_drift_y=week_data['lon'].values   # Adding longitude as external drift coordinates\n",
    "        )\n",
    "        pred_max, _ = uk_max.execute(\"points\", [city_lat], [city_lon], [city_lvl])\n",
    "\n",
    "        # Safely access the predictions and append them\n",
    "        predictions.append({\n",
    "            'week': week,\n",
    "            'predicted_precipitation_avg': pred_avg[0][0],  # First value of the prediction\n",
    "            'predicted_precipitation_max': pred_max[0][0]   # First value of the prediction\n",
    "        })\n",
    "\n",
    "    return pd.DataFrame(predictions)\n",
    "\n",
    "# Example usage with provided coordinates\n",
    "city_lat = -22  # Replace with your city's latitude\n",
    "city_lon = -6   # Replace with your city's longitude\n",
    "city_lvl = 43   # Replace with your city's altitude\n",
    "\n",
    "predicted_data = predict_precipitation(city_lat, city_lon, city_lvl)\n",
    "print(predicted_data)\n"
   ],
   "id": "937c77f1458d268d",
   "outputs": [
    {
     "ename": "ValueError",
     "evalue": "Must specify coordinates of external Z drift terms.",
     "output_type": "error",
     "traceback": [
      "\u001B[1;31m---------------------------------------------------------------------------\u001B[0m",
      "\u001B[1;31mValueError\u001B[0m                                Traceback (most recent call last)",
      "Cell \u001B[1;32mIn[13], line 50\u001B[0m\n\u001B[0;32m     47\u001B[0m city_lon \u001B[38;5;241m=\u001B[39m \u001B[38;5;241m-\u001B[39m\u001B[38;5;241m6\u001B[39m   \u001B[38;5;66;03m# Replace with your city's longitude\u001B[39;00m\n\u001B[0;32m     48\u001B[0m city_lvl \u001B[38;5;241m=\u001B[39m \u001B[38;5;241m43\u001B[39m   \u001B[38;5;66;03m# Replace with your city's altitude\u001B[39;00m\n\u001B[1;32m---> 50\u001B[0m predicted_data \u001B[38;5;241m=\u001B[39m \u001B[43mpredict_precipitation\u001B[49m\u001B[43m(\u001B[49m\u001B[43mcity_lat\u001B[49m\u001B[43m,\u001B[49m\u001B[43m \u001B[49m\u001B[43mcity_lon\u001B[49m\u001B[43m,\u001B[49m\u001B[43m \u001B[49m\u001B[43mcity_lvl\u001B[49m\u001B[43m)\u001B[49m\n\u001B[0;32m     51\u001B[0m \u001B[38;5;28mprint\u001B[39m(predicted_data)\n",
      "Cell \u001B[1;32mIn[13], line 21\u001B[0m, in \u001B[0;36mpredict_precipitation\u001B[1;34m(city_lat, city_lon, city_lvl)\u001B[0m\n\u001B[0;32m     18\u001B[0m external_drift \u001B[38;5;241m=\u001B[39m np\u001B[38;5;241m.\u001B[39mcolumn_stack((week_data[\u001B[38;5;124m\"\u001B[39m\u001B[38;5;124mlvl\u001B[39m\u001B[38;5;124m\"\u001B[39m]\u001B[38;5;241m.\u001B[39mvalues, week_data[\u001B[38;5;124m\"\u001B[39m\u001B[38;5;124mlat\u001B[39m\u001B[38;5;124m\"\u001B[39m]\u001B[38;5;241m.\u001B[39mvalues, week_data[\u001B[38;5;124m\"\u001B[39m\u001B[38;5;124mlon\u001B[39m\u001B[38;5;124m\"\u001B[39m]\u001B[38;5;241m.\u001B[39mvalues))\n\u001B[0;32m     20\u001B[0m \u001B[38;5;66;03m# Universal Kriging for precipitation_avg\u001B[39;00m\n\u001B[1;32m---> 21\u001B[0m uk_avg \u001B[38;5;241m=\u001B[39m \u001B[43mUniversalKriging\u001B[49m\u001B[43m(\u001B[49m\n\u001B[0;32m     22\u001B[0m \u001B[43m    \u001B[49m\u001B[43mweek_data\u001B[49m\u001B[43m[\u001B[49m\u001B[38;5;124;43m'\u001B[39;49m\u001B[38;5;124;43mlat\u001B[39;49m\u001B[38;5;124;43m'\u001B[39;49m\u001B[43m]\u001B[49m\u001B[43m,\u001B[49m\u001B[43m \u001B[49m\u001B[43mweek_data\u001B[49m\u001B[43m[\u001B[49m\u001B[38;5;124;43m'\u001B[39;49m\u001B[38;5;124;43mlon\u001B[39;49m\u001B[38;5;124;43m'\u001B[39;49m\u001B[43m]\u001B[49m\u001B[43m,\u001B[49m\u001B[43m \u001B[49m\u001B[43mweek_data\u001B[49m\u001B[43m[\u001B[49m\u001B[38;5;124;43m'\u001B[39;49m\u001B[38;5;124;43mprecipitation_avg\u001B[39;49m\u001B[38;5;124;43m'\u001B[39;49m\u001B[43m]\u001B[49m\u001B[43m,\u001B[49m\n\u001B[0;32m     23\u001B[0m \u001B[43m    \u001B[49m\u001B[43mvariogram_model\u001B[49m\u001B[38;5;241;43m=\u001B[39;49m\u001B[38;5;124;43m\"\u001B[39;49m\u001B[38;5;124;43mlinear\u001B[39;49m\u001B[38;5;124;43m\"\u001B[39;49m\u001B[43m,\u001B[49m\u001B[43m \u001B[49m\u001B[43mdrift_terms\u001B[49m\u001B[38;5;241;43m=\u001B[39;49m\u001B[43m[\u001B[49m\u001B[38;5;124;43m\"\u001B[39;49m\u001B[38;5;124;43mexternal_Z\u001B[39;49m\u001B[38;5;124;43m\"\u001B[39;49m\u001B[43m]\u001B[49m\u001B[43m,\u001B[49m\n\u001B[0;32m     24\u001B[0m \u001B[43m    \u001B[49m\u001B[43mexternal_drift\u001B[49m\u001B[38;5;241;43m=\u001B[39;49m\u001B[43mexternal_drift\u001B[49m\u001B[43m  \u001B[49m\u001B[38;5;66;43;03m# Pass the 2D array for external drift\u001B[39;49;00m\n\u001B[0;32m     25\u001B[0m \u001B[43m\u001B[49m\u001B[43m)\u001B[49m\n\u001B[0;32m     26\u001B[0m pred_avg, _ \u001B[38;5;241m=\u001B[39m uk_avg\u001B[38;5;241m.\u001B[39mexecute(\u001B[38;5;124m\"\u001B[39m\u001B[38;5;124mpoints\u001B[39m\u001B[38;5;124m\"\u001B[39m, [city_lat], [city_lon], [city_lvl])\n\u001B[0;32m     28\u001B[0m \u001B[38;5;66;03m# Universal Kriging for precipitation_max\u001B[39;00m\n",
      "File \u001B[1;32m~\\PycharmProjects\\FYP-dc\\.venv\\Lib\\site-packages\\pykrige\\uk.py:415\u001B[0m, in \u001B[0;36mUniversalKriging.__init__\u001B[1;34m(self, x, y, z, variogram_model, variogram_parameters, variogram_function, nlags, weight, anisotropy_scaling, anisotropy_angle, drift_terms, point_drift, external_drift, external_drift_x, external_drift_y, specified_drift, functional_drift, verbose, enable_plotting, exact_values, pseudo_inv, pseudo_inv_type)\u001B[0m\n\u001B[0;32m    413\u001B[0m     \u001B[38;5;28;01mraise\u001B[39;00m \u001B[38;5;167;01mValueError\u001B[39;00m(\u001B[38;5;124m\"\u001B[39m\u001B[38;5;124mMust specify external Z drift terms.\u001B[39m\u001B[38;5;124m\"\u001B[39m)\n\u001B[0;32m    414\u001B[0m \u001B[38;5;28;01mif\u001B[39;00m external_drift_x \u001B[38;5;129;01mis\u001B[39;00m \u001B[38;5;28;01mNone\u001B[39;00m \u001B[38;5;129;01mor\u001B[39;00m external_drift_y \u001B[38;5;129;01mis\u001B[39;00m \u001B[38;5;28;01mNone\u001B[39;00m:\n\u001B[1;32m--> 415\u001B[0m     \u001B[38;5;28;01mraise\u001B[39;00m \u001B[38;5;167;01mValueError\u001B[39;00m(\u001B[38;5;124m\"\u001B[39m\u001B[38;5;124mMust specify coordinates of external Z drift terms.\u001B[39m\u001B[38;5;124m\"\u001B[39m)\n\u001B[0;32m    416\u001B[0m \u001B[38;5;28mself\u001B[39m\u001B[38;5;241m.\u001B[39mexternal_Z_drift \u001B[38;5;241m=\u001B[39m \u001B[38;5;28;01mTrue\u001B[39;00m\n\u001B[0;32m    417\u001B[0m \u001B[38;5;28;01mif\u001B[39;00m (\n\u001B[0;32m    418\u001B[0m     external_drift\u001B[38;5;241m.\u001B[39mshape[\u001B[38;5;241m0\u001B[39m] \u001B[38;5;241m!=\u001B[39m external_drift_y\u001B[38;5;241m.\u001B[39mshape[\u001B[38;5;241m0\u001B[39m]\n\u001B[0;32m    419\u001B[0m     \u001B[38;5;129;01mor\u001B[39;00m external_drift\u001B[38;5;241m.\u001B[39mshape[\u001B[38;5;241m1\u001B[39m] \u001B[38;5;241m!=\u001B[39m external_drift_x\u001B[38;5;241m.\u001B[39mshape[\u001B[38;5;241m0\u001B[39m]\n\u001B[0;32m    420\u001B[0m ):\n",
      "\u001B[1;31mValueError\u001B[0m: Must specify coordinates of external Z drift terms."
     ]
    }
   ],
   "execution_count": 13
  },
  {
   "metadata": {},
   "cell_type": "markdown",
   "source": "Using regressing\n",
   "id": "c2ff4ce9e8a070c1"
  },
  {
   "metadata": {
    "ExecuteTime": {
     "end_time": "2024-12-14T12:55:23.231473Z",
     "start_time": "2024-12-14T12:46:51.009309Z"
    }
   },
   "cell_type": "code",
   "source": [
    "import pandas as pd\n",
    "import numpy as np\n",
    "from sklearn.linear_model import LinearRegression\n",
    "from pykrige.ok import OrdinaryKriging\n",
    "\n",
    "# Load the sorted precipitation data\n",
    "data = pd.read_csv(\"../kriging/data/sorted_precipitation_data.csv\")\n",
    "cities_data = pd.read_csv(\"../kriging/data/filtered_RJ_lat_long_data.csv\")\n",
    "\n",
    "# Function for kriging precipitation with altitude adjustment\n",
    "def predict_precipitation_regression(city_lat, city_lon, city_lvl):\n",
    "    weeks = sorted(data['week'].unique())\n",
    "    predictions = []\n",
    "\n",
    "    for week in weeks:\n",
    "        # Filter data for the specific week\n",
    "        week_data = data[data['week'] == week]\n",
    "\n",
    "        # Extract features for regression\n",
    "        X = week_data[['lvl']].values  # Altitude\n",
    "        y_avg = week_data['precipitation_avg'].values\n",
    "        y_max = week_data['precipitation_max'].values\n",
    "\n",
    "        # Perform linear regression on altitude\n",
    "        reg_avg = LinearRegression().fit(X, y_avg)\n",
    "        reg_max = LinearRegression().fit(X, y_max)\n",
    "\n",
    "        # Calculate residuals\n",
    "        residuals_avg = y_avg - reg_avg.predict(X)\n",
    "        residuals_max = y_max - reg_max.predict(X)\n",
    "\n",
    "        # Perform kriging on residuals\n",
    "        kriging_avg = OrdinaryKriging(\n",
    "            week_data['lat'], week_data['lon'], residuals_avg,\n",
    "            variogram_model='linear', verbose=False, enable_plotting=False\n",
    "        )\n",
    "        kriging_max = OrdinaryKriging(\n",
    "            week_data['lat'], week_data['lon'], residuals_max,\n",
    "            variogram_model='linear', verbose=False, enable_plotting=False\n",
    "        )\n",
    "\n",
    "        # Predict residuals for the city\n",
    "        residual_avg, _ = kriging_avg.execute('points', float(city_lat), float(city_lon))\n",
    "        residual_max, _ = kriging_max.execute('points', float(city_lat), float(city_lon))\n",
    "\n",
    "        # Add the altitude effect back to the prediction\n",
    "        pred_avg = reg_avg.predict([[city_lvl]])[0] + residual_avg[0]\n",
    "        pred_max = reg_max.predict([[city_lvl]])[0] + residual_max[0]\n",
    "\n",
    "        # Store the predictions for the week\n",
    "        predictions.append({\n",
    "            'week': week,\n",
    "            'predicted_precipitation_avg': pred_avg,\n",
    "            'predicted_precipitation_max': pred_max\n",
    "        })\n",
    "\n",
    "    return predictions\n",
    "\n",
    "results = []\n",
    "for _, city in cities_data.iterrows():\n",
    "    city_name = city['CITY']\n",
    "    city_lat = city['LAT']\n",
    "    city_lon = city['LONG']\n",
    "    city_lvl = city['ALT']\n",
    "\n",
    "    # Predict precipitation for the current city\n",
    "    city_predictions = predict_precipitation_regression(city_lat, city_lon, city_lvl)\n",
    "\n",
    "    # Add city name to each prediction\n",
    "    for prediction in city_predictions:\n",
    "        prediction['CITY'] = city_name\n",
    "        results.append(prediction)\n",
    "\n",
    "# Convert results to a DataFrame and save as a CSV file\n",
    "output_df = pd.DataFrame(results)\n",
    "output_df.to_csv(\"../kriging/data/predicted_precipitation_by_week.csv\", index=False)\n",
    "\n",
    "print(\"Predictions saved to '../kriging/data/predicted_precipitation_by_week.csv'\")\n"
   ],
   "id": "37bc80ea926f3be8",
   "outputs": [
    {
     "name": "stdout",
     "output_type": "stream",
     "text": [
      "Predictions saved to '../kriging/data/predicted_precipitation_by_week.csv'\n"
     ]
    }
   ],
   "execution_count": 25
  },
  {
   "metadata": {},
   "cell_type": "markdown",
   "source": "Normal way without altitude",
   "id": "362206e28bee79af"
  },
  {
   "metadata": {
    "ExecuteTime": {
     "end_time": "2024-12-14T13:58:22.499350Z",
     "start_time": "2024-12-14T13:49:12.061129Z"
    }
   },
   "cell_type": "code",
   "source": [
    "import pandas as pd\n",
    "import numpy as np\n",
    "from pykrige.ok import OrdinaryKriging\n",
    "\n",
    "# Load the sorted data\n",
    "file_path = \"../kriging/data/sorted_precipitation_data.csv\"\n",
    "data = pd.read_csv(file_path)\n",
    "\n",
    "# Function to perform kriging for a given city location and predict precipitation\n",
    "def predict_precipitation_ordinary(city_lat, city_lon):\n",
    "    # Get unique weeks from the data\n",
    "    unique_weeks = data['week'].unique()\n",
    "\n",
    "    # Store predictions for each week\n",
    "    predictions = []\n",
    "\n",
    "    # Iterate through each week\n",
    "    for week in unique_weeks:\n",
    "        # Filter data for the current week\n",
    "        week_data = data[data['week'] == week]\n",
    "\n",
    "        # Prepare input arrays for kriging\n",
    "        lats = week_data['lat'].values\n",
    "        lons = week_data['lon'].values\n",
    "\n",
    "        avg_precip = week_data['precipitation_avg'].values\n",
    "        max_precip = week_data['precipitation_max'].values\n",
    "\n",
    "        # Ordinary Kriging for precipitation_avg\n",
    "        ok_avg = OrdinaryKriging(\n",
    "            lats, lons, avg_precip,\n",
    "            variogram_model='linear',\n",
    "            verbose=False,\n",
    "            enable_plotting=False\n",
    "        )\n",
    "        predicted_avg, _ = ok_avg.execute('points', float(city_lat), float(city_lon))\n",
    "\n",
    "        # Ordinary Kriging for precipitation_max\n",
    "        ok_max = OrdinaryKriging(\n",
    "            lats, lons, max_precip,\n",
    "            variogram_model='linear',\n",
    "            verbose=False,\n",
    "            enable_plotting=False\n",
    "        )\n",
    "        predicted_max, _ = ok_max.execute('points', float(city_lat), float(city_lon))\n",
    "\n",
    "        # Append predictions for this week\n",
    "        predictions.append({\n",
    "            'week': week,\n",
    "            'precipitation_avg': predicted_avg[0],\n",
    "            'precipitation_max': predicted_max[0]\n",
    "        })\n",
    "\n",
    "    return predictions  # Return a list of dictionaries, not a string\n",
    "\n",
    "# Example cities data (load your actual cities CSV file)\n",
    "cities_data = pd.read_csv(\"../kriging/data/filtered_RJ_lat_long_data.csv\")\n",
    "\n",
    "results = []\n",
    "for _, city in cities_data.iterrows():\n",
    "    city_name = city['CITY']\n",
    "    city_lat = city['LAT']\n",
    "    city_lon = city['LONG']\n",
    "    city_lvl = city['ALT']\n",
    "\n",
    "    # Predict precipitation for the current city\n",
    "    city_predictions = predict_precipitation_ordinary(city_lat, city_lon)\n",
    "\n",
    "    for prediction in city_predictions:\n",
    "        prediction['CITY'] = city_name  # Add the city name to the prediction\n",
    "        results.append(prediction)\n",
    "\n",
    "# Convert results to a DataFrame and save as a CSV file\n",
    "output_df = pd.DataFrame(results)\n",
    "output_df.to_csv(\"../kriging/data/predicted_precipitation_by_week_ordinary.csv\", index=False)\n",
    "\n",
    "print(\"Predictions saved to '../kriging/data/predicted_precipitation_by_week_ordinary.csv'\")\n"
   ],
   "id": "115728917b0cd40a",
   "outputs": [
    {
     "name": "stdout",
     "output_type": "stream",
     "text": [
      "Predictions saved to '../kriging/data/predicted_precipitation_by_week_ordinary.csv'\n"
     ]
    }
   ],
   "execution_count": 32
  },
  {
   "metadata": {
    "ExecuteTime": {
     "end_time": "2024-12-14T14:04:22.835406Z",
     "start_time": "2024-12-14T14:04:21.939510Z"
    }
   },
   "cell_type": "code",
   "source": [
    "# Read the CSV file\n",
    "df = pd.read_csv('../kriging/data/predicted_precipitation_by_week_ordinary.csv')\n",
    "\n",
    "# Replace negative precipitation values with 0\n",
    "df['precipitation_avg'] = df['precipitation_avg'].apply(lambda x: max(x, 0))\n",
    "df['precipitation_max'] = df['precipitation_max'].apply(lambda x: max(x, 0))\n",
    "\n",
    "# Round the precipitation values to 4 decimal places\n",
    "df['precipitation_avg'] = df['precipitation_avg'].round(4)\n",
    "df['precipitation_max'] = df['precipitation_max'].round(4)\n",
    "\n",
    "# Save the updated DataFrame back to the same CSV file\n",
    "df.to_csv('../kriging/data/predicted_precipitation_by_week_ordinary.csv', index=False)\n",
    "\n",
    "print(\"Negative precipitation values have been replaced with 0 and rounded to 4 decimal places.\")"
   ],
   "id": "d66edb0bd285b2aa",
   "outputs": [
    {
     "name": "stdout",
     "output_type": "stream",
     "text": [
      "Negative precipitation values have been replaced with 0.\n"
     ]
    }
   ],
   "execution_count": 33
  },
  {
   "metadata": {},
   "cell_type": "code",
   "outputs": [],
   "execution_count": null,
   "source": "",
   "id": "482c238c28a6a66"
  }
 ],
 "metadata": {
  "kernelspec": {
   "display_name": "Python 3",
   "language": "python",
   "name": "python3"
  },
  "language_info": {
   "codemirror_mode": {
    "name": "ipython",
    "version": 2
   },
   "file_extension": ".py",
   "mimetype": "text/x-python",
   "name": "python",
   "nbconvert_exporter": "python",
   "pygments_lexer": "ipython2",
   "version": "2.7.6"
  }
 },
 "nbformat": 4,
 "nbformat_minor": 5
}
