{
 "cells": [
  {
   "cell_type": "code",
   "id": "initial_id",
   "metadata": {
    "collapsed": true,
    "ExecuteTime": {
     "end_time": "2024-12-14T06:44:48.244278Z",
     "start_time": "2024-12-14T06:44:48.052285Z"
    }
   },
   "source": [
    "import pandas as pd\n",
    "\n",
    "# Define the relative file path\n",
    "file_path = \"../kriging/data/filtered_precipitation_data_2012_2022_by_station.csv\"\n",
    "\n",
    "# Load the CSV file\n",
    "data = pd.read_csv(file_path)\n",
    "\n",
    "# Sort the dataframe by 'week' column\n",
    "sorted_data = data.sort_values(by='week')\n",
    "\n",
    "# Display the first few rows of the sorted data\n",
    "print(sorted_data.head())\n",
    "\n",
    "# Save the sorted data back to a new CSV file\n",
    "sorted_file_path = \"sorted_precipitation_data.csv\"\n",
    "sorted_data.to_csv(sorted_file_path, index=False)\n"
   ],
   "outputs": [
    {
     "name": "stdout",
     "output_type": "stream",
     "text": [
      "     ESTACAO        lat        lon     lvl    week  precipitation_avg  \\\n",
      "0       A601 -22.800000 -43.683333    33.0  201201          14.171429   \n",
      "2853    A607 -21.716667 -41.350000    25.0  201201           6.371429   \n",
      "2281    A606 -22.983333 -42.016667     4.0  201201           2.114286   \n",
      "1160    A603 -22.589722 -43.282222    33.0  201201                NaN   \n",
      "4548    A610 -22.481667 -43.291389  1777.0  201201           9.685714   \n",
      "\n",
      "      precipitation_max  \n",
      "0                  66.2  \n",
      "2853               25.0  \n",
      "2281                5.4  \n",
      "1160                NaN  \n",
      "4548               19.0  \n"
     ]
    }
   ],
   "execution_count": 3
  },
  {
   "metadata": {},
   "cell_type": "code",
   "outputs": [],
   "execution_count": null,
   "source": "",
   "id": "7993702a0f459285"
  }
 ],
 "metadata": {
  "kernelspec": {
   "display_name": "Python 3",
   "language": "python",
   "name": "python3"
  },
  "language_info": {
   "codemirror_mode": {
    "name": "ipython",
    "version": 2
   },
   "file_extension": ".py",
   "mimetype": "text/x-python",
   "name": "python",
   "nbconvert_exporter": "python",
   "pygments_lexer": "ipython2",
   "version": "2.7.6"
  }
 },
 "nbformat": 4,
 "nbformat_minor": 5
}
